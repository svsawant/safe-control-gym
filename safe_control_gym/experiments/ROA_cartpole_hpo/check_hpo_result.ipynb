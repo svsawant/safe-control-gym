{
 "cells": [
  {
   "cell_type": "code",
   "execution_count": 3,
   "metadata": {},
   "outputs": [],
   "source": [
    "import os\n",
    "import numpy as np\n",
    "import matplotlib.pyplot as plt\n",
    "\n",
    "# inline plot\n",
    "%matplotlib inline"
   ]
  },
  {
   "cell_type": "code",
   "execution_count": 20,
   "metadata": {},
   "outputs": [
    {
     "name": "stdout",
     "output_type": "stream",
     "text": [
      "Data file found: /home/tumeilsy-mo-10/Repositories/scg_mx/safe_control_gym/experiments/ROA_cartpole/data/result_0.npy\n"
     ]
    },
    {
     "ename": "IndexError",
     "evalue": "too many indices for array: array is 0-dimensional, but 1 were indexed",
     "output_type": "error",
     "traceback": [
      "\u001b[0;31m---------------------------------------------------------------------------\u001b[0m",
      "\u001b[0;31mIndexError\u001b[0m                                Traceback (most recent call last)",
      "Cell \u001b[0;32mIn[20], line 16\u001b[0m\n\u001b[1;32m     13\u001b[0m         \u001b[39m# read the data file\u001b[39;00m\n\u001b[1;32m     14\u001b[0m         data \u001b[39m=\u001b[39m np\u001b[39m.\u001b[39mload(data_file_path, allow_pickle\u001b[39m=\u001b[39m\u001b[39mTrue\u001b[39;00m)\n\u001b[0;32m---> 16\u001b[0m \u001b[39mprint\u001b[39m(data[\u001b[39m0\u001b[39;49m])\n",
      "\u001b[0;31mIndexError\u001b[0m: too many indices for array: array is 0-dimensional, but 1 were indexed"
     ]
    }
   ],
   "source": [
    "# get the data folder path\n",
    "data_folder_path = os.path.abspath(\"data\")\n",
    "data_file_name = None\n",
    "\n",
    "data_result = []\n",
    "# number of data files\n",
    "num_data = 1\n",
    "for i in range(num_data):\n",
    "    data_file_name = \"result_\" + str(i) + \".npy\"\n",
    "    data_file_path = os.path.join(data_folder_path, data_file_name)\n",
    "    if os.path.exists(data_file_path):\n",
    "        print(\"Data file found: \" + data_file_path)\n",
    "        # read the data file\n",
    "        data = np.load(data_file_path, allow_pickle=True)\n",
    "        \n",
    "print(data[0])\n"
   ]
  },
  {
   "cell_type": "code",
   "execution_count": null,
   "metadata": {},
   "outputs": [],
   "source": []
  }
 ],
 "metadata": {
  "kernelspec": {
   "display_name": "safe",
   "language": "python",
   "name": "python3"
  },
  "language_info": {
   "codemirror_mode": {
    "name": "ipython",
    "version": 3
   },
   "file_extension": ".py",
   "mimetype": "text/x-python",
   "name": "python",
   "nbconvert_exporter": "python",
   "pygments_lexer": "ipython3",
   "version": "3.10.13"
  },
  "orig_nbformat": 4
 },
 "nbformat": 4,
 "nbformat_minor": 2
}
