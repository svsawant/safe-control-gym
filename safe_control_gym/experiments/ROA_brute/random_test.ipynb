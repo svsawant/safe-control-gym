{
 "cells": [
  {
   "cell_type": "code",
   "execution_count": 1,
   "metadata": {},
   "outputs": [],
   "source": [
    "import numpy as np"
   ]
  },
  {
   "cell_type": "code",
   "execution_count": 1,
   "metadata": {},
   "outputs": [
    {
     "name": "stdout",
     "output_type": "stream",
     "text": [
      "True\n",
      "1\n",
      "0\n",
      "<torch.cuda.device object at 0x7f7e3221ee60>\n",
      "NVIDIA RTX A3000 12GB Laptop GPU\n"
     ]
    }
   ],
   "source": [
    "import torch\n",
    "\n",
    "print(torch.cuda.is_available())\n",
    "\n",
    "\n",
    "print(torch.cuda.device_count())\n",
    "\n",
    "\n",
    "print(torch.cuda.current_device())\n",
    "\n",
    "\n",
    "print(torch.cuda.device(0))\n",
    "\n",
    "\n",
    "print(torch.cuda.get_device_name(0))\n"
   ]
  },
  {
   "cell_type": "code",
   "execution_count": 2,
   "metadata": {},
   "outputs": [
    {
     "data": {
      "text/plain": [
       "array([[-1.,  1.]])"
      ]
     },
     "execution_count": 2,
     "metadata": {},
     "output_type": "execute_result"
    }
   ],
   "source": [
    "state_constraints = np.array([[-1., 1.], ])\n",
    "state_constraints"
   ]
  },
  {
   "cell_type": "code",
   "execution_count": 3,
   "metadata": {},
   "outputs": [],
   "source": [
    "state_dim = 4"
   ]
  },
  {
   "cell_type": "code",
   "execution_count": 4,
   "metadata": {},
   "outputs": [
    {
     "data": {
      "text/plain": [
       "array([[-1.,  1.],\n",
       "       [-1.,  1.],\n",
       "       [-1.,  1.],\n",
       "       [-1.,  1.]])"
      ]
     },
     "execution_count": 4,
     "metadata": {},
     "output_type": "execute_result"
    }
   ],
   "source": [
    "grid_limits = np.array([[-1., 1.], ] * state_dim)\n",
    "grid_limits"
   ]
  },
  {
   "cell_type": "code",
   "execution_count": 5,
   "metadata": {},
   "outputs": [
    {
     "data": {
      "text/plain": [
       "(2,)"
      ]
     },
     "execution_count": 5,
     "metadata": {},
     "output_type": "execute_result"
    }
   ],
   "source": [
    "a = np.array([-1., -2.])\n",
    "a.T.shape"
   ]
  },
  {
   "cell_type": "code",
   "execution_count": 6,
   "metadata": {},
   "outputs": [
    {
     "data": {
      "text/plain": [
       "(2,)"
      ]
     },
     "execution_count": 6,
     "metadata": {},
     "output_type": "execute_result"
    }
   ],
   "source": [
    "b = np.array([1., 2.])\n",
    "b.shape"
   ]
  },
  {
   "cell_type": "code",
   "execution_count": 7,
   "metadata": {},
   "outputs": [
    {
     "data": {
      "text/plain": [
       "array([[-1., -2.],\n",
       "       [ 1.,  2.]])"
      ]
     },
     "execution_count": 7,
     "metadata": {},
     "output_type": "execute_result"
    }
   ],
   "source": [
    "np.vstack((a, b))"
   ]
  },
  {
   "cell_type": "code",
   "execution_count": 8,
   "metadata": {},
   "outputs": [],
   "source": [
    "def myfunction(first, second, third = None):\n",
    "    if third is None:\n",
    "        print('the third arg is None')#just use first and second\n",
    "    else:\n",
    "        print('the third arg is not None')\n",
    "        #use all three\n"
   ]
  },
  {
   "cell_type": "code",
   "execution_count": 9,
   "metadata": {},
   "outputs": [
    {
     "name": "stdout",
     "output_type": "stream",
     "text": [
      "the third arg is None\n",
      "the third arg is not None\n"
     ]
    }
   ],
   "source": [
    "\n",
    "myfunction(1, 2) # third will be None, so enter the 'if' clause\n",
    "myfunction(3, 4, 5) # third isn't None, it's 5, so enter the 'else' clause"
   ]
  },
  {
   "cell_type": "code",
   "execution_count": 10,
   "metadata": {},
   "outputs": [
    {
     "data": {
      "text/plain": [
       "{'init_x': -0.5,\n",
       " 'init_x_dot': -0.012224312049589542,\n",
       " 'init_theta': 0.0,\n",
       " 'init_theta_dot': 0.039473605811872786}"
      ]
     },
     "execution_count": 10,
     "metadata": {},
     "output_type": "execute_result"
    }
   ],
   "source": [
    "# init state format\n",
    "{'init_x': -0.5, 'init_x_dot': -0.012224312049589542, 'init_theta': 0.0, 'init_theta_dot': 0.039473605811872786}"
   ]
  },
  {
   "cell_type": "code",
   "execution_count": 11,
   "metadata": {},
   "outputs": [],
   "source": [
    "roa = np.zeros((3))"
   ]
  },
  {
   "cell_type": "code",
   "execution_count": 12,
   "metadata": {},
   "outputs": [
    {
     "data": {
      "text/plain": [
       "array([0., 0., 0.])"
      ]
     },
     "execution_count": 12,
     "metadata": {},
     "output_type": "execute_result"
    }
   ],
   "source": [
    "roa"
   ]
  },
  {
   "cell_type": "code",
   "execution_count": 13,
   "metadata": {},
   "outputs": [
    {
     "data": {
      "text/plain": [
       "(3,)"
      ]
     },
     "execution_count": 13,
     "metadata": {},
     "output_type": "execute_result"
    }
   ],
   "source": [
    "roa.shape"
   ]
  },
  {
   "cell_type": "code",
   "execution_count": 14,
   "metadata": {},
   "outputs": [
    {
     "data": {
      "text/plain": [
       "array([0., 1., 0.])"
      ]
     },
     "execution_count": 14,
     "metadata": {},
     "output_type": "execute_result"
    }
   ],
   "source": [
    "# change the second element of roa to 1\n",
    "roa[1] = 1\n",
    "roa"
   ]
  },
  {
   "cell_type": "code",
   "execution_count": 15,
   "metadata": {},
   "outputs": [
    {
     "data": {
      "text/plain": [
       "array([[[[ 1,  2],\n",
       "         [ 3,  4]],\n",
       "\n",
       "        [[ 5,  6],\n",
       "         [ 7,  8]]],\n",
       "\n",
       "\n",
       "       [[[ 9, 10],\n",
       "         [11, 12]],\n",
       "\n",
       "        [[13, 14],\n",
       "         [15, 16]]]])"
      ]
     },
     "execution_count": 15,
     "metadata": {},
     "output_type": "execute_result"
    }
   ],
   "source": [
    "# create a 4d array from 1 to 16\n",
    "a = np.arange(1, 17).reshape(2, 2, 2, 2)\n",
    "a"
   ]
  },
  {
   "cell_type": "code",
   "execution_count": 16,
   "metadata": {},
   "outputs": [
    {
     "data": {
      "text/plain": [
       "(2, 2)"
      ]
     },
     "execution_count": 16,
     "metadata": {},
     "output_type": "execute_result"
    }
   ],
   "source": [
    "a_1 = a[0][0]\n",
    "a_1.shape"
   ]
  },
  {
   "cell_type": "code",
   "execution_count": 17,
   "metadata": {},
   "outputs": [],
   "source": [
    "a_2 = a[1][0]"
   ]
  },
  {
   "cell_type": "code",
   "execution_count": 18,
   "metadata": {},
   "outputs": [
    {
     "data": {
      "text/plain": [
       "tensor([[-0.9370, -1.5195,  1.3627,  0.5365],\n",
       "        [ 2.2083,  0.9078, -1.0414,  2.4662],\n",
       "        [-0.4188,  1.1943,  1.4048,  2.3854],\n",
       "        [-0.5726,  1.5413, -0.0311,  0.4854]])"
      ]
     },
     "execution_count": 18,
     "metadata": {},
     "output_type": "execute_result"
    }
   ],
   "source": [
    "# a randome torch tensor\n",
    "import torch\n",
    "a = torch.randn(4, 4)\n",
    "a"
   ]
  },
  {
   "cell_type": "code",
   "execution_count": 19,
   "metadata": {},
   "outputs": [
    {
     "data": {
      "text/plain": [
       "tensor([[-0.9370, -1.5195,  1.3627,  0.5365],\n",
       "        [ 2.2083,  0.9078, -1.0414,  2.4662],\n",
       "        [-0.4188,  1.1943,  1.4048,  2.3854]])"
      ]
     },
     "execution_count": 19,
     "metadata": {},
     "output_type": "execute_result"
    }
   ],
   "source": [
    "a[:-1]"
   ]
  },
  {
   "cell_type": "code",
   "execution_count": 20,
   "metadata": {},
   "outputs": [
    {
     "data": {
      "text/plain": [
       "tensor([0.2695, 0.2928, 0.5877, 0.6530])"
      ]
     },
     "execution_count": 20,
     "metadata": {},
     "output_type": "execute_result"
    }
   ],
   "source": [
    "torch.rand(4)"
   ]
  },
  {
   "cell_type": "code",
   "execution_count": 21,
   "metadata": {},
   "outputs": [
    {
     "data": {
      "text/plain": [
       "torch.Size([4])"
      ]
     },
     "execution_count": 21,
     "metadata": {},
     "output_type": "execute_result"
    }
   ],
   "source": [
    "torch_state = torch.tensor([-2.0000, -0.1000, -0.2000, -0.1000], dtype=torch.float64)\n",
    "torch_state\n",
    "torch_state.shape"
   ]
  },
  {
   "cell_type": "code",
   "execution_count": 22,
   "metadata": {},
   "outputs": [
    {
     "data": {
      "text/plain": [
       "torch.Size([1])"
      ]
     },
     "execution_count": 22,
     "metadata": {},
     "output_type": "execute_result"
    }
   ],
   "source": [
    "np_refined_state = np.zeros((1))\n",
    "np_refined_state\n",
    "# convert np array to torch tensor\n",
    "torch_refinement = lambda x: torch.tensor(x, dtype=torch.int32)\n",
    "torch_refined_state = torch_refinement(np_refined_state)\n",
    "torch_refined_state\n",
    "torch_refined_state.shape"
   ]
  },
  {
   "cell_type": "code",
   "execution_count": 23,
   "metadata": {},
   "outputs": [
    {
     "data": {
      "text/plain": [
       "tensor([-2.0000, -0.1000, -0.2000, -0.1000,  0.0000], dtype=torch.float64)"
      ]
     },
     "execution_count": 23,
     "metadata": {},
     "output_type": "execute_result"
    }
   ],
   "source": [
    "cat_result = torch.cat((torch_state, torch_refined_state), dim=0)\n",
    "cat_result"
   ]
  },
  {
   "cell_type": "code",
   "execution_count": 24,
   "metadata": {},
   "outputs": [
    {
     "name": "stdout",
     "output_type": "stream",
     "text": [
      "tensor([[2., 0., 0., 0.],\n",
      "        [0., 2., 0., 0.],\n",
      "        [0., 0., 2., 0.],\n",
      "        [0., 0., 0., 2.]])\n",
      "tensor([[-1.7897],\n",
      "        [ 1.9857],\n",
      "        [-0.8967],\n",
      "        [ 0.1290]])\n",
      "tensor([[-3.5794],\n",
      "        [ 3.9714],\n",
      "        [-1.7934],\n",
      "        [ 0.2579]])\n",
      "tensor([[-3.5794],\n",
      "        [ 3.9714],\n",
      "        [-1.7934],\n",
      "        [ 0.2579]])\n"
     ]
    }
   ],
   "source": [
    "#  4 by 4 identity 2 matrix\n",
    "a = torch.eye(4, 4)\n",
    "a = a*2\n",
    "print(a)\n",
    "# random 4 by 1 torch tensor\n",
    "b = torch.randn(4, 1)\n",
    "print(b)\n",
    "\n",
    "# matrxi multiplication of a and b\n",
    "c = torch.matmul(a, b)\n",
    "print(c)\n",
    "\n",
    "c = a @ b\n",
    "print(c)"
   ]
  },
  {
   "cell_type": "code",
   "execution_count": 25,
   "metadata": {},
   "outputs": [
    {
     "data": {
      "text/plain": [
       "tensor([[4420.4814]])"
      ]
     },
     "execution_count": 25,
     "metadata": {},
     "output_type": "execute_result"
    }
   ],
   "source": [
    "P = torch.tensor([[ 30.84994366,  23.19563601,  94.9755486,   34.81369438],\n",
    " [ 23.19563601,  36.46784603, 154.18729063,  56.35727772],\n",
    " [ 94.9755486,  154.18729063, 786.268242,   266.96955303],\n",
    " [ 34.81369438,  56.35727772, 266.96955303,  95.65674031]])\n",
    "P\n",
    "x = torch.ones(4, 1)\n",
    "res = 2* P @ x\n",
    "res = torch.norm(res, p=1, dim=0, keepdim=True)\n",
    "res"
   ]
  },
  {
   "cell_type": "code",
   "execution_count": 26,
   "metadata": {},
   "outputs": [
    {
     "name": "stdout",
     "output_type": "stream",
     "text": [
      "0\n"
     ]
    }
   ],
   "source": [
    "for i in range(1):\n",
    "    print(i)"
   ]
  },
  {
   "cell_type": "code",
   "execution_count": 27,
   "metadata": {},
   "outputs": [
    {
     "data": {
      "text/plain": [
       "[<matplotlib.lines.Line2D at 0x7f842fe2a6b0>]"
      ]
     },
     "execution_count": 27,
     "metadata": {},
     "output_type": "execute_result"
    },
    {
     "data": {
      "image/png": "[encoded data removed]",
      "text/plain": [
       "<Figure size 640x480 with 1 Axes>"
      ]
     },
     "metadata": {},
     "output_type": "display_data"
    }
   ],
   "source": [
    "# fix random seed\n",
    "np.random.seed(0)\n",
    "torch.manual_seed(0)\n",
    "\n",
    "# to fit the function y = w * w * x\n",
    "w = 2\n",
    "x = np.linspace(-1, 1, 100)\n",
    "y = w * w * x\n",
    "# add noise\n",
    "y += np.random.normal(0, 0.1, 100)\n",
    "# plot the data\n",
    "import matplotlib.pyplot as plt\n",
    "# plot inline\n",
    "%matplotlib inline\n",
    "plt.plot(x, y)\n"
   ]
  },
  {
   "cell_type": "code",
   "execution_count": 28,
   "metadata": {},
   "outputs": [],
   "source": [
    "class TestNN(torch.nn.Module):\n",
    "    def __init__(self, input_dim, layer_dims, activations, eps=1e-6):\n",
    "        super(TestNN, self).__init__()\n",
    "        self.linear = torch.nn.Linear(1, 1, bias=False)\n",
    "        self.activation = torch.nn.ReLU()\n",
    "    \n",
    "    def forward(self, x):\n",
    "        if isinstance(x, np.ndarray):\n",
    "            x = torch.from_numpy(x).float()\n",
    "        W = self.linear.weight\n",
    "        x = W * W * x\n",
    "        x = self.activation(x)\n",
    "        return x\n",
    "    "
   ]
  },
  {
   "cell_type": "code",
   "execution_count": 29,
   "metadata": {},
   "outputs": [],
   "source": [
    "\n",
    "# create a neural network\n",
    "nn = TestNN(1, [1], ['tanh'])\n",
    "# create optimizer\n",
    "optimizer = torch.optim.Adam(nn.parameters(), lr=0.01)\n",
    "# create loss function\n",
    "\n"
   ]
  },
  {
   "cell_type": "code",
   "execution_count": 30,
   "metadata": {},
   "outputs": [
    {
     "data": {
      "text/plain": [
       "tensor([[2.8026e-05]], grad_fn=<ReluBackward0>)"
      ]
     },
     "execution_count": 30,
     "metadata": {},
     "output_type": "execute_result"
    }
   ],
   "source": [
    "test_point = np.array([0.5])\n",
    "nn(test_point)"
   ]
  },
  {
   "cell_type": "code",
   "execution_count": 31,
   "metadata": {},
   "outputs": [],
   "source": [
    "# train the neural network\n",
    "for i in range(1000):\n",
    "    # sample 10 state from the data\n",
    "    idx = np.random.choice(100, 10)\n",
    "    input = x[idx].copy()\n",
    "    y_loss = y[idx].copy()\n",
    "\n",
    "    # forward pass\n",
    "    # create empty tensor to store the output\n",
    "    output = torch.empty(10)\n",
    "    # loop through the input\n",
    "    for i in range(10):\n",
    "        # get the output of the neural network\n",
    "        output[i] = nn(input[i])\n",
    "    \n",
    "    # compute loss\n",
    "    # convert y_loss to torch tensor\n",
    "    y_loss = torch.from_numpy(y_loss).float()\n",
    "    loss = torch.norm(output - y_loss, p=2)\n",
    "\n",
    "\n",
    "    # zero gradients\n",
    "    optimizer.zero_grad()\n",
    "    # backward pass\n",
    "    loss.backward()\n",
    "\n",
    "    # print the gradient\n",
    "    # print('gradient: ', nn.linear.weight.grad)\n",
    "    # print('weight: ', nn.linear.weight)\n",
    "\n",
    "    # update parameters\n",
    "    optimizer.step()\n",
    "    # print loss every 10 iterations\n",
    "    if i % 10 == 0:\n",
    "        print('loss: ', loss.item())\n",
    "\n",
    "    "
   ]
  },
  {
   "cell_type": "code",
   "execution_count": 32,
   "metadata": {},
   "outputs": [
    {
     "data": {
      "text/plain": [
       "[<matplotlib.lines.Line2D at 0x7f842dd40d00>]"
      ]
     },
     "execution_count": 32,
     "metadata": {},
     "output_type": "execute_result"
    },
    {
     "data": {
      "image/png": "[encoded data removed]",
      "text/plain": [
       "<Figure size 640x480 with 1 Axes>"
      ]
     },
     "metadata": {},
     "output_type": "display_data"
    }
   ],
   "source": [
    "# plot the result\n",
    "# plot the data\n",
    "plt.plot(x, y)\n",
    "# plot the neural network output\n",
    "output = torch.empty(100)\n",
    "for i in range(100):\n",
    "    output[i] = nn(x[i])\n",
    "plt.plot(x, output.detach().numpy(), 'r')"
   ]
  },
  {
   "cell_type": "code",
   "execution_count": 33,
   "metadata": {},
   "outputs": [],
   "source": [
    "# fit a neural network to a 2d quadratic function\n",
    "# fix random seed\n",
    "np.random.seed(0)\n",
    "torch.manual_seed(0)\n",
    "\n",
    "P = np.array([1, 0.5, 0.5, 1]).reshape(2, 2)\n",
    "\n",
    "# define an ellipse with center (0, 0) and radius 1\n",
    "def ellipse(x):\n",
    "    return x.T @ P @ x \n",
    "\n",
    "\n"
   ]
  },
  {
   "cell_type": "code",
   "execution_count": 34,
   "metadata": {},
   "outputs": [],
   "source": [
    "def get_points_on_ellipsoid(P, c, n_points=100, radius=1.0):\n",
    "    # Determine the inverse of the square root of the matrix P\n",
    "    P_sqrt_inv = np.linalg.inv(np.sqrt(P))\n",
    "    # Create a circle in the 2d space\n",
    "    theta = np.linspace(0, 2 * np.pi, n_points)\n",
    "    circle = radius * np.vstack((np.cos(theta), np.sin(theta)))\n",
    "    # Scale the circle with the inverse of the square root of P\n",
    "    ellipse = P_sqrt_inv @ circle\n",
    "    # Translate the ellipse to the center c\n",
    "    ellipse = ellipse + c.reshape(-1, 1)\n",
    "    return ellipse"
   ]
  },
  {
   "cell_type": "code",
   "execution_count": 35,
   "metadata": {},
   "outputs": [
    {
     "data": {
      "text/plain": [
       "[<matplotlib.lines.Line2D at 0x7f842ddd16f0>]"
      ]
     },
     "execution_count": 35,
     "metadata": {},
     "output_type": "execute_result"
    },
    {
     "data": {
      "image/png": "[encoded data removed]",
      "text/plain": [
       "<Figure size 640x480 with 1 Axes>"
      ]
     },
     "metadata": {},
     "output_type": "display_data"
    }
   ],
   "source": [
    "\n",
    "# get points on the ellipse\n",
    "points = get_points_on_ellipsoid(P, np.zeros(2), n_points=1000, radius=1.0)\n",
    "# plot the ellipse\n",
    "plt.plot(points[0, :], points[1, :])\n"
   ]
  },
  {
   "cell_type": "markdown",
   "metadata": {},
   "source": [
    "Complete Lyapunov nn implementation"
   ]
  },
  {
   "cell_type": "code",
   "execution_count": 36,
   "metadata": {},
   "outputs": [],
   "source": [
    "\n",
    "class LyapunovNN(torch.nn.Module):\n",
    "    # def __init__(self, dim_input, layer_dims, activations):\n",
    "    def __init__(self, input_dim, layer_dims, activations, eps=1e-6):\n",
    "        super(LyapunovNN, self).__init__()\n",
    "        # network layers\n",
    "        self.input_dim = input_dim\n",
    "        self.num_layers = len(layer_dims)\n",
    "        self.activations = activations\n",
    "        self.eps = eps\n",
    "        self.layers = torch.nn.ModuleList()\n",
    "        self.kernel = []\n",
    "\n",
    "        if layer_dims[0] < input_dim:\n",
    "            raise ValueError('The first layer dimension must be at \\\n",
    "                             least the input dimension!')\n",
    "\n",
    "        if np.all(np.diff(layer_dims) >= 0):\n",
    "            self.output_dims = layer_dims\n",
    "        else:\n",
    "            raise ValueError('Each layer must maintain or increase \\\n",
    "                             the dimension of its input!')\n",
    "\n",
    "        self.hidden_dims = np.zeros(self.num_layers, dtype=int)\n",
    "        for i in range(self.num_layers):\n",
    "            if i == 0:\n",
    "                layer_input_dim = self.input_dim\n",
    "            else:\n",
    "                layer_input_dim = self.output_dims[i - 1]\n",
    "            self.hidden_dims[i] = np.ceil((layer_input_dim + 1) / 2).astype(int)\n",
    "\n",
    "        # build the nn structure\n",
    "        for i in range(self.num_layers):\n",
    "            if i == 0:\n",
    "                layer_input_dim = self.input_dim\n",
    "            else:\n",
    "                layer_input_dim = self.output_dims[i - 1]\n",
    "            self.layers.append(\\\n",
    "                        torch.nn.Linear(layer_input_dim, self.hidden_dims[i], bias=False))\n",
    "            W = self.layers[-1].weight\n",
    "            weight = W.clone()\n",
    "            # weight = W\n",
    "            kernel = torch.matmul(weight.T, W) + self.eps * torch.eye(W.shape[1])\n",
    "            # kernel = torch.matmul(W.T, W) + self.eps * torch.eye(W.shape[1])\n",
    "            dim_diff = self.output_dims[i] - layer_input_dim\n",
    "            if dim_diff > 0:\n",
    "                self.layers.append(torch.nn.Linear(layer_input_dim, dim_diff, bias=False))\n",
    "                # print(kernel.shape, self.layers[-1].weight.shape)\n",
    "                kernel = torch.cat((kernel, self.layers[-1].weight), dim=0)\n",
    "            self.kernel.append(kernel)\n",
    "\n",
    "    def forward(self, x):\n",
    "        if isinstance(x, np.ndarray):\n",
    "            x = torch.from_numpy(x).float()\n",
    "        for i in range(self.num_layers):\n",
    "            layer_output = torch.matmul(self.kernel[i], x)\n",
    "            x = self.activations[i](layer_output)\n",
    "        values = torch.sum(torch.square(x), dim=-1)\n",
    "        return values\n",
    "    \n",
    "    def print_params(self):\n",
    "        offset = 0\n",
    "        # get nn parameters\n",
    "        params = []\n",
    "        for _, param in self.named_parameters():\n",
    "            params.append(param.data)\n",
    "        for i, dim_diff in enumerate(np.diff(np.concatenate([[self.input_dim], self.output_dims]))):\n",
    "            print('Layer weights {}:'.format(i))\n",
    "            W0 = params[offset + i]\n",
    "            print('W0:\\n{}'.format(W0))\n",
    "            if dim_diff > 0:\n",
    "                W1 = params[offset + 1 + i]\n",
    "                print('W1:\\n{}'.format(W1))\n",
    "            else:\n",
    "                offset += 1\n",
    "            kernel = W0.T.dot(W0) + self.eps * np.eye(W0.shape[1])\n",
    "            eigvals, _ = np.linalg.eig(kernel)\n",
    "            print('Eigenvalues of (W0.T*W0 + eps*I):', eigvals, '\\n')\n"
   ]
  },
  {
   "cell_type": "markdown",
   "metadata": {},
   "source": [
    "Hard-coded Lyapunov NN "
   ]
  },
  {
   "cell_type": "code",
   "execution_count": 62,
   "metadata": {},
   "outputs": [],
   "source": [
    "class LyapunovNN_hardcoded(torch.nn.Module):\n",
    "    # def __init__(self, dim_input, layer_dims, activations):\n",
    "    def __init__(self, input_dim, layer_dims, activations, eps=1e-6):\n",
    "        super(LyapunovNN_hardcoded, self).__init__()\n",
    "        # network layers\n",
    "        self.input_dim = input_dim\n",
    "        self.num_layers = len(layer_dims)\n",
    "        self.activations = activations\n",
    "        self.eps = eps\n",
    "        self.layers = torch.nn.ModuleList()\n",
    "        self.kernel = []\n",
    "\n",
    "        if layer_dims[0] < input_dim:\n",
    "            raise ValueError('The first layer dimension must be at \\\n",
    "                             least the input dimension!')\n",
    "\n",
    "        if np.all(np.diff(layer_dims) >= 0):\n",
    "            self.output_dims = layer_dims\n",
    "        else:\n",
    "            raise ValueError('Each layer must maintain or increase \\\n",
    "                             the dimension of its input!')\n",
    "\n",
    "        self.hidden_dims = np.zeros(self.num_layers, dtype=int)\n",
    "        for i in range(self.num_layers):\n",
    "            if i == 0:\n",
    "                layer_input_dim = self.input_dim\n",
    "            else:\n",
    "                layer_input_dim = self.output_dims[i - 1]\n",
    "            self.hidden_dims[i] = np.ceil((layer_input_dim + 1) / 2).astype(int)\n",
    "\n",
    "        # build the nn structure (hardcoded)\n",
    "        self.layers.append(torch.nn.Linear(2, 2, bias=False))\n",
    "        self.layers.append(torch.nn.Linear(2, 2, bias=False))\n",
    "        W0 = self.layers[0].weight\n",
    "        W1 = self.layers[1].weight\n",
    "        # print('W1.shape\\n', W1.shape)\n",
    "        # print('W2.shape\\n', W2.shape)\n",
    "        self.kernel = [torch.matmul(W0.T, W0) + self.eps * torch.eye(W0.shape[1]),\n",
    "                       torch.matmul(W1.T, W1) + self.eps * torch.eye(W1.shape[1])]\n",
    "\n",
    "    def forward(self, x):\n",
    "        if isinstance(x, np.ndarray):\n",
    "            x = torch.from_numpy(x).float()\n",
    "        x = self.activations[0](torch.matmul(self.kernel[0], x))\n",
    "        x = self.activations[1](torch.matmul(self.kernel[1], x))\n",
    "        x = torch.sum(torch.square(x))\n",
    "        return x"
   ]
  },
  {
   "cell_type": "code",
   "execution_count": 64,
   "metadata": {},
   "outputs": [
    {
     "name": "stdout",
     "output_type": "stream",
     "text": [
      "layers.0.weight torch.Size([2, 2])\n",
      "layers.1.weight torch.Size([2, 2])\n",
      "Parameter containing:\n",
      "tensor([[-0.6736, -0.0127],\n",
      "        [-0.5325, -0.5454]], requires_grad=True)\n",
      "tensor([[0.7373, 0.2990],\n",
      "        [0.2990, 0.2977]], grad_fn=<AddBackward0>)\n",
      "Eigenvalues of (W0.T*W0 + eps*I): [0.8885654 0.1463641] \n",
      "\n",
      "Parameter containing:\n",
      "tensor([[-0.0390,  0.1062],\n",
      "        [-0.2896,  0.4196]], requires_grad=True)\n",
      "tensor([[ 0.0854, -0.1256],\n",
      "        [-0.1256,  0.1873]], grad_fn=<AddBackward0>)\n",
      "Eigenvalues of (W1.T*W1 + eps*I): [0.00076322 0.27193454] \n",
      "\n"
     ]
    }
   ],
   "source": [
    "\n",
    "# create a neural network\n",
    "# nn = LyapunovNN(2, [2, 2], [torch.nn.Tanh(), torch.nn.Tanh()])\n",
    "nn = LyapunovNN_hardcoded(2, [2, 2], [torch.nn.Tanh(), torch.nn.Tanh()])\n",
    "# print parameters\n",
    "for name, param in nn.named_parameters():\n",
    "    if param.requires_grad:\n",
    "        print(name, param.data.shape)\n",
    "\n",
    "# create optimizer\n",
    "optimizer = torch.optim.Adam(nn.parameters(), lr=0.01)\n",
    "\n",
    "print(nn.layers[0].weight)\n",
    "print(nn.kernel[0])\n",
    "eigvals, _ = np.linalg.eig(nn.kernel[0].detach().numpy())\n",
    "print('Eigenvalues of (W0.T*W0 + eps*I):', eigvals, '\\n')\n",
    "\n",
    "print(nn.layers[1].weight)\n",
    "print(nn.kernel[1])\n",
    "eigvals, _ = np.linalg.eig(nn.kernel[1].detach().numpy())\n",
    "print('Eigenvalues of (W1.T*W1 + eps*I):', eigvals, '\\n')\n"
   ]
  },
  {
   "cell_type": "code",
   "execution_count": 71,
   "metadata": {},
   "outputs": [
    {
     "data": {
      "image/svg+xml": [
       "<?xml version=\"1.0\" encoding=\"UTF-8\" standalone=\"no\"?>\n",
       "<!DOCTYPE svg PUBLIC \"-//W3C//DTD SVG 1.1//EN\"\n",
       " \"http://www.w3.org/Graphics/SVG/1.1/DTD/svg11.dtd\">\n",
       "<!-- Generated by graphviz version 2.43.0 (0)\n",
       " -->\n",
       "<!-- Title: %3 Pages: 1 -->\n",
       "<svg width=\"315pt\" height=\"666pt\"\n",
       " viewBox=\"0.00 0.00 315.00 666.00\" xmlns=\"http://www.w3.org/2000/svg\" xmlns:xlink=\"http://www.w3.org/1999/xlink\">\n",
       "<g id=\"graph0\" class=\"graph\" transform=\"scale(1 1) rotate(0) translate(4 662)\">\n",
       "<title>%3</title>\n",
       "<polygon fill=\"white\" stroke=\"transparent\" points=\"-4,4 -4,-662 311,-662 311,4 -4,4\"/>\n",
       "<!-- 140205545620720 -->\n",
       "<g id=\"node1\" class=\"node\">\n",
       "<title>140205545620720</title>\n",
       "<polygon fill=\"#caff70\" stroke=\"black\" points=\"163.5,-31 109.5,-31 109.5,0 163.5,0 163.5,-31\"/>\n",
       "<text text-anchor=\"middle\" x=\"136.5\" y=\"-7\" font-family=\"monospace\" font-size=\"10.00\"> ()</text>\n",
       "</g>\n",
       "<!-- 140205553056880 -->\n",
       "<g id=\"node2\" class=\"node\">\n",
       "<title>140205553056880</title>\n",
       "<polygon fill=\"lightgrey\" stroke=\"black\" points=\"181,-86 92,-86 92,-67 181,-67 181,-86\"/>\n",
       "<text text-anchor=\"middle\" x=\"136.5\" y=\"-74\" font-family=\"monospace\" font-size=\"10.00\">SumBackward0</text>\n",
       "</g>\n",
       "<!-- 140205553056880&#45;&gt;140205545620720 -->\n",
       "<g id=\"edge18\" class=\"edge\">\n",
       "<title>140205553056880&#45;&gt;140205545620720</title>\n",
       "<path fill=\"none\" stroke=\"black\" d=\"M136.5,-66.79C136.5,-60.07 136.5,-50.4 136.5,-41.34\"/>\n",
       "<polygon fill=\"black\" stroke=\"black\" points=\"140,-41.19 136.5,-31.19 133,-41.19 140,-41.19\"/>\n",
       "</g>\n",
       "<!-- 140205547934464 -->\n",
       "<g id=\"node3\" class=\"node\">\n",
       "<title>140205547934464</title>\n",
       "<polygon fill=\"lightgrey\" stroke=\"black\" points=\"181,-141 92,-141 92,-122 181,-122 181,-141\"/>\n",
       "<text text-anchor=\"middle\" x=\"136.5\" y=\"-129\" font-family=\"monospace\" font-size=\"10.00\">PowBackward0</text>\n",
       "</g>\n",
       "<!-- 140205547934464&#45;&gt;140205553056880 -->\n",
       "<g id=\"edge1\" class=\"edge\">\n",
       "<title>140205547934464&#45;&gt;140205553056880</title>\n",
       "<path fill=\"none\" stroke=\"black\" d=\"M136.5,-121.75C136.5,-114.8 136.5,-104.85 136.5,-96.13\"/>\n",
       "<polygon fill=\"black\" stroke=\"black\" points=\"140,-96.09 136.5,-86.09 133,-96.09 140,-96.09\"/>\n",
       "</g>\n",
       "<!-- 140205547943104 -->\n",
       "<g id=\"node4\" class=\"node\">\n",
       "<title>140205547943104</title>\n",
       "<polygon fill=\"lightgrey\" stroke=\"black\" points=\"184,-196 89,-196 89,-177 184,-177 184,-196\"/>\n",
       "<text text-anchor=\"middle\" x=\"136.5\" y=\"-184\" font-family=\"monospace\" font-size=\"10.00\">TanhBackward0</text>\n",
       "</g>\n",
       "<!-- 140205547943104&#45;&gt;140205547934464 -->\n",
       "<g id=\"edge2\" class=\"edge\">\n",
       "<title>140205547943104&#45;&gt;140205547934464</title>\n",
       "<path fill=\"none\" stroke=\"black\" d=\"M136.5,-176.75C136.5,-169.8 136.5,-159.85 136.5,-151.13\"/>\n",
       "<polygon fill=\"black\" stroke=\"black\" points=\"140,-151.09 136.5,-141.09 133,-151.09 140,-151.09\"/>\n",
       "</g>\n",
       "<!-- 140205547942048 -->\n",
       "<g id=\"node5\" class=\"node\">\n",
       "<title>140205547942048</title>\n",
       "<polygon fill=\"lightgrey\" stroke=\"black\" points=\"178,-251 95,-251 95,-232 178,-232 178,-251\"/>\n",
       "<text text-anchor=\"middle\" x=\"136.5\" y=\"-239\" font-family=\"monospace\" font-size=\"10.00\">MvBackward0</text>\n",
       "</g>\n",
       "<!-- 140205547942048&#45;&gt;140205547943104 -->\n",
       "<g id=\"edge3\" class=\"edge\">\n",
       "<title>140205547942048&#45;&gt;140205547943104</title>\n",
       "<path fill=\"none\" stroke=\"black\" d=\"M136.5,-231.75C136.5,-224.8 136.5,-214.85 136.5,-206.13\"/>\n",
       "<polygon fill=\"black\" stroke=\"black\" points=\"140,-206.09 136.5,-196.09 133,-206.09 140,-206.09\"/>\n",
       "</g>\n",
       "<!-- 140205547938784 -->\n",
       "<g id=\"node6\" class=\"node\">\n",
       "<title>140205547938784</title>\n",
       "<polygon fill=\"lightgrey\" stroke=\"black\" points=\"126,-306 37,-306 37,-287 126,-287 126,-306\"/>\n",
       "<text text-anchor=\"middle\" x=\"81.5\" y=\"-294\" font-family=\"monospace\" font-size=\"10.00\">AddBackward0</text>\n",
       "</g>\n",
       "<!-- 140205547938784&#45;&gt;140205547942048 -->\n",
       "<g id=\"edge4\" class=\"edge\">\n",
       "<title>140205547938784&#45;&gt;140205547942048</title>\n",
       "<path fill=\"none\" stroke=\"black\" d=\"M90.58,-286.75C98.59,-279.03 110.46,-267.6 120.12,-258.28\"/>\n",
       "<polygon fill=\"black\" stroke=\"black\" points=\"122.81,-260.55 127.59,-251.09 117.96,-255.51 122.81,-260.55\"/>\n",
       "</g>\n",
       "<!-- 140205547942144 -->\n",
       "<g id=\"node7\" class=\"node\">\n",
       "<title>140205547942144</title>\n",
       "<polygon fill=\"lightgrey\" stroke=\"black\" points=\"119,-361 36,-361 36,-342 119,-342 119,-361\"/>\n",
       "<text text-anchor=\"middle\" x=\"77.5\" y=\"-349\" font-family=\"monospace\" font-size=\"10.00\">MmBackward0</text>\n",
       "</g>\n",
       "<!-- 140205547942144&#45;&gt;140205547938784 -->\n",
       "<g id=\"edge5\" class=\"edge\">\n",
       "<title>140205547942144&#45;&gt;140205547938784</title>\n",
       "<path fill=\"none\" stroke=\"black\" d=\"M78.16,-341.75C78.68,-334.8 79.44,-324.85 80.09,-316.13\"/>\n",
       "<polygon fill=\"black\" stroke=\"black\" points=\"83.59,-316.32 80.85,-306.09 76.61,-315.8 83.59,-316.32\"/>\n",
       "</g>\n",
       "<!-- 140205547936096 -->\n",
       "<g id=\"node8\" class=\"node\">\n",
       "<title>140205547936096</title>\n",
       "<polygon fill=\"lightgrey\" stroke=\"black\" points=\"134,-416 21,-416 21,-397 134,-397 134,-416\"/>\n",
       "<text text-anchor=\"middle\" x=\"77.5\" y=\"-404\" font-family=\"monospace\" font-size=\"10.00\">PermuteBackward0</text>\n",
       "</g>\n",
       "<!-- 140205547936096&#45;&gt;140205547942144 -->\n",
       "<g id=\"edge6\" class=\"edge\">\n",
       "<title>140205547936096&#45;&gt;140205547942144</title>\n",
       "<path fill=\"none\" stroke=\"black\" d=\"M77.5,-396.75C77.5,-389.8 77.5,-379.85 77.5,-371.13\"/>\n",
       "<polygon fill=\"black\" stroke=\"black\" points=\"81,-371.09 77.5,-361.09 74,-371.09 81,-371.09\"/>\n",
       "</g>\n",
       "<!-- 140205547942288 -->\n",
       "<g id=\"node9\" class=\"node\">\n",
       "<title>140205547942288</title>\n",
       "<polygon fill=\"lightgrey\" stroke=\"black\" points=\"104,-471 3,-471 3,-452 104,-452 104,-471\"/>\n",
       "<text text-anchor=\"middle\" x=\"53.5\" y=\"-459\" font-family=\"monospace\" font-size=\"10.00\">AccumulateGrad</text>\n",
       "</g>\n",
       "<!-- 140205547942288&#45;&gt;140205547942144 -->\n",
       "<g id=\"edge9\" class=\"edge\">\n",
       "<title>140205547942288&#45;&gt;140205547942144</title>\n",
       "<path fill=\"none\" stroke=\"black\" d=\"M40.83,-451.99C24.8,-440.1 0.51,-417.66 11.5,-397 18.81,-383.25 32.47,-372.99 45.47,-365.8\"/>\n",
       "<polygon fill=\"black\" stroke=\"black\" points=\"47.39,-368.75 54.72,-361.11 44.22,-362.51 47.39,-368.75\"/>\n",
       "</g>\n",
       "<!-- 140205547942288&#45;&gt;140205547936096 -->\n",
       "<g id=\"edge7\" class=\"edge\">\n",
       "<title>140205547942288&#45;&gt;140205547936096</title>\n",
       "<path fill=\"none\" stroke=\"black\" d=\"M57.46,-451.75C60.71,-444.57 65.42,-434.18 69.45,-425.27\"/>\n",
       "<polygon fill=\"black\" stroke=\"black\" points=\"72.67,-426.64 73.61,-416.09 66.3,-423.75 72.67,-426.64\"/>\n",
       "</g>\n",
       "<!-- 140205548741120 -->\n",
       "<g id=\"node10\" class=\"node\">\n",
       "<title>140205548741120</title>\n",
       "<polygon fill=\"lightblue\" stroke=\"black\" points=\"107,-537 0,-537 0,-507 107,-507 107,-537\"/>\n",
       "<text text-anchor=\"middle\" x=\"53.5\" y=\"-525\" font-family=\"monospace\" font-size=\"10.00\">layers.1.weight</text>\n",
       "<text text-anchor=\"middle\" x=\"53.5\" y=\"-514\" font-family=\"monospace\" font-size=\"10.00\"> (2, 2)</text>\n",
       "</g>\n",
       "<!-- 140205548741120&#45;&gt;140205547942288 -->\n",
       "<g id=\"edge8\" class=\"edge\">\n",
       "<title>140205548741120&#45;&gt;140205547942288</title>\n",
       "<path fill=\"none\" stroke=\"black\" d=\"M53.5,-506.84C53.5,-499.21 53.5,-489.7 53.5,-481.45\"/>\n",
       "<polygon fill=\"black\" stroke=\"black\" points=\"57,-481.27 53.5,-471.27 50,-481.27 57,-481.27\"/>\n",
       "</g>\n",
       "<!-- 140205547937584 -->\n",
       "<g id=\"node11\" class=\"node\">\n",
       "<title>140205547937584</title>\n",
       "<polygon fill=\"lightgrey\" stroke=\"black\" points=\"241,-306 146,-306 146,-287 241,-287 241,-306\"/>\n",
       "<text text-anchor=\"middle\" x=\"193.5\" y=\"-294\" font-family=\"monospace\" font-size=\"10.00\">TanhBackward0</text>\n",
       "</g>\n",
       "<!-- 140205547937584&#45;&gt;140205547942048 -->\n",
       "<g id=\"edge10\" class=\"edge\">\n",
       "<title>140205547937584&#45;&gt;140205547942048</title>\n",
       "<path fill=\"none\" stroke=\"black\" d=\"M184.34,-286.98C176,-279.23 163.47,-267.58 153.32,-258.14\"/>\n",
       "<polygon fill=\"black\" stroke=\"black\" points=\"155.53,-255.42 145.82,-251.17 150.76,-260.54 155.53,-255.42\"/>\n",
       "</g>\n",
       "<!-- 140205547935520 -->\n",
       "<g id=\"node12\" class=\"node\">\n",
       "<title>140205547935520</title>\n",
       "<polygon fill=\"lightgrey\" stroke=\"black\" points=\"236,-361 153,-361 153,-342 236,-342 236,-361\"/>\n",
       "<text text-anchor=\"middle\" x=\"194.5\" y=\"-349\" font-family=\"monospace\" font-size=\"10.00\">MvBackward0</text>\n",
       "</g>\n",
       "<!-- 140205547935520&#45;&gt;140205547937584 -->\n",
       "<g id=\"edge11\" class=\"edge\">\n",
       "<title>140205547935520&#45;&gt;140205547937584</title>\n",
       "<path fill=\"none\" stroke=\"black\" d=\"M194.33,-341.75C194.2,-334.8 194.02,-324.85 193.85,-316.13\"/>\n",
       "<polygon fill=\"black\" stroke=\"black\" points=\"197.35,-316.02 193.66,-306.09 190.35,-316.15 197.35,-316.02\"/>\n",
       "</g>\n",
       "<!-- 140205547934704 -->\n",
       "<g id=\"node13\" class=\"node\">\n",
       "<title>140205547934704</title>\n",
       "<polygon fill=\"lightgrey\" stroke=\"black\" points=\"241,-416 152,-416 152,-397 241,-397 241,-416\"/>\n",
       "<text text-anchor=\"middle\" x=\"196.5\" y=\"-404\" font-family=\"monospace\" font-size=\"10.00\">AddBackward0</text>\n",
       "</g>\n",
       "<!-- 140205547934704&#45;&gt;140205547935520 -->\n",
       "<g id=\"edge12\" class=\"edge\">\n",
       "<title>140205547934704&#45;&gt;140205547935520</title>\n",
       "<path fill=\"none\" stroke=\"black\" d=\"M196.17,-396.75C195.91,-389.8 195.53,-379.85 195.2,-371.13\"/>\n",
       "<polygon fill=\"black\" stroke=\"black\" points=\"198.7,-370.95 194.82,-361.09 191.7,-371.21 198.7,-370.95\"/>\n",
       "</g>\n",
       "<!-- 140205547942768 -->\n",
       "<g id=\"node14\" class=\"node\">\n",
       "<title>140205547942768</title>\n",
       "<polygon fill=\"lightgrey\" stroke=\"black\" points=\"238,-471 155,-471 155,-452 238,-452 238,-471\"/>\n",
       "<text text-anchor=\"middle\" x=\"196.5\" y=\"-459\" font-family=\"monospace\" font-size=\"10.00\">MmBackward0</text>\n",
       "</g>\n",
       "<!-- 140205547942768&#45;&gt;140205547934704 -->\n",
       "<g id=\"edge13\" class=\"edge\">\n",
       "<title>140205547942768&#45;&gt;140205547934704</title>\n",
       "<path fill=\"none\" stroke=\"black\" d=\"M196.5,-451.75C196.5,-444.8 196.5,-434.85 196.5,-426.13\"/>\n",
       "<polygon fill=\"black\" stroke=\"black\" points=\"200,-426.09 196.5,-416.09 193,-426.09 200,-426.09\"/>\n",
       "</g>\n",
       "<!-- 140205547943440 -->\n",
       "<g id=\"node15\" class=\"node\">\n",
       "<title>140205547943440</title>\n",
       "<polygon fill=\"lightgrey\" stroke=\"black\" points=\"307,-531.5 194,-531.5 194,-512.5 307,-512.5 307,-531.5\"/>\n",
       "<text text-anchor=\"middle\" x=\"250.5\" y=\"-519.5\" font-family=\"monospace\" font-size=\"10.00\">PermuteBackward0</text>\n",
       "</g>\n",
       "<!-- 140205547943440&#45;&gt;140205547942768 -->\n",
       "<g id=\"edge14\" class=\"edge\">\n",
       "<title>140205547943440&#45;&gt;140205547942768</title>\n",
       "<path fill=\"none\" stroke=\"black\" d=\"M242.53,-512.37C234.4,-503.55 221.57,-489.66 211.52,-478.77\"/>\n",
       "<polygon fill=\"black\" stroke=\"black\" points=\"213.86,-476.14 204.5,-471.17 208.71,-480.89 213.86,-476.14\"/>\n",
       "</g>\n",
       "<!-- 140205547942192 -->\n",
       "<g id=\"node16\" class=\"node\">\n",
       "<title>140205547942192</title>\n",
       "<polygon fill=\"lightgrey\" stroke=\"black\" points=\"258,-592 157,-592 157,-573 258,-573 258,-592\"/>\n",
       "<text text-anchor=\"middle\" x=\"207.5\" y=\"-580\" font-family=\"monospace\" font-size=\"10.00\">AccumulateGrad</text>\n",
       "</g>\n",
       "<!-- 140205547942192&#45;&gt;140205547942768 -->\n",
       "<g id=\"edge17\" class=\"edge\">\n",
       "<title>140205547942192&#45;&gt;140205547942768</title>\n",
       "<path fill=\"none\" stroke=\"black\" d=\"M201.4,-572.8C195.75,-564.17 187.75,-550.35 184.5,-537 179.92,-518.15 184.65,-496.19 189.45,-481.01\"/>\n",
       "<polygon fill=\"black\" stroke=\"black\" points=\"192.85,-481.9 192.83,-471.31 186.24,-479.6 192.85,-481.9\"/>\n",
       "</g>\n",
       "<!-- 140205547942192&#45;&gt;140205547943440 -->\n",
       "<g id=\"edge15\" class=\"edge\">\n",
       "<title>140205547942192&#45;&gt;140205547943440</title>\n",
       "<path fill=\"none\" stroke=\"black\" d=\"M213.84,-572.87C220.2,-564.23 230.14,-550.7 238.07,-539.92\"/>\n",
       "<polygon fill=\"black\" stroke=\"black\" points=\"241.03,-541.8 244.13,-531.67 235.39,-537.65 241.03,-541.8\"/>\n",
       "</g>\n",
       "<!-- 140205548654240 -->\n",
       "<g id=\"node17\" class=\"node\">\n",
       "<title>140205548654240</title>\n",
       "<polygon fill=\"lightblue\" stroke=\"black\" points=\"261,-658 154,-658 154,-628 261,-628 261,-658\"/>\n",
       "<text text-anchor=\"middle\" x=\"207.5\" y=\"-646\" font-family=\"monospace\" font-size=\"10.00\">layers.0.weight</text>\n",
       "<text text-anchor=\"middle\" x=\"207.5\" y=\"-635\" font-family=\"monospace\" font-size=\"10.00\"> (2, 2)</text>\n",
       "</g>\n",
       "<!-- 140205548654240&#45;&gt;140205547942192 -->\n",
       "<g id=\"edge16\" class=\"edge\">\n",
       "<title>140205548654240&#45;&gt;140205547942192</title>\n",
       "<path fill=\"none\" stroke=\"black\" d=\"M207.5,-627.84C207.5,-620.21 207.5,-610.7 207.5,-602.45\"/>\n",
       "<polygon fill=\"black\" stroke=\"black\" points=\"211,-602.27 207.5,-592.27 204,-602.27 211,-602.27\"/>\n",
       "</g>\n",
       "</g>\n",
       "</svg>\n"
      ],
      "text/plain": [
       "<graphviz.graphs.Digraph at 0x7f842600ef50>"
      ]
     },
     "execution_count": 71,
     "metadata": {},
     "output_type": "execute_result"
    }
   ],
   "source": [
    "from torchviz import make_dot\n",
    "\n",
    "# create dummy input\n",
    "x = torch.tensor([1., 1.])\n",
    "# forward pass\n",
    "y = nn(x)\n",
    "# make graph\n",
    "make_dot(y, params=dict(list(nn.named_parameters())))"
   ]
  },
  {
   "cell_type": "code",
   "execution_count": 72,
   "metadata": {},
   "outputs": [
    {
     "name": "stderr",
     "output_type": "stream",
     "text": [
      "/home/tumeilsy-mo-10/anaconda3/envs/safe/lib/python3.10/site-packages/torch/autograd/__init__.py:197: UserWarning: Error detected in MmBackward0. No forward pass information available. Enable detect anomaly during forward pass for more information. (Triggered internally at ../torch/csrc/autograd/python_anomaly_mode.cpp:92.)\n",
      "  Variable._execution_engine.run_backward(  # Calls into the C++ engine to run the backward pass\n"
     ]
    },
    {
     "ename": "RuntimeError",
     "evalue": "Trying to backward through the graph a second time (or directly access saved tensors after they have already been freed). Saved intermediate values of the graph are freed when you call .backward() or autograd.grad(). Specify retain_graph=True if you need to backward through the graph a second time or if you need to access saved tensors after calling backward.",
     "output_type": "error",
     "traceback": [
      "\u001b[0;31m---------------------------------------------------------------------------\u001b[0m",
      "\u001b[0;31mRuntimeError\u001b[0m                              Traceback (most recent call last)",
      "Cell \u001b[0;32mIn[72], line 22\u001b[0m\n\u001b[1;32m     19\u001b[0m optimizer\u001b[39m.\u001b[39mzero_grad()\n\u001b[1;32m     20\u001b[0m \u001b[39m# backward pass\u001b[39;00m\n\u001b[1;32m     21\u001b[0m \u001b[39m# loss.backward()\u001b[39;00m\n\u001b[0;32m---> 22\u001b[0m loss\u001b[39m.\u001b[39;49mbackward(retain_graph\u001b[39m=\u001b[39;49m\u001b[39mTrue\u001b[39;49;00m)\n\u001b[1;32m     24\u001b[0m \u001b[39m# print the gradient\u001b[39;00m\n\u001b[1;32m     25\u001b[0m \u001b[39m# print('gradient: ', nn.layers.weight.grad)\u001b[39;00m\n\u001b[1;32m     26\u001b[0m \u001b[39m# print('weight: ', nn.linear.weight)\u001b[39;00m\n\u001b[1;32m     27\u001b[0m \n\u001b[1;32m     28\u001b[0m \u001b[39m# update parameters\u001b[39;00m\n\u001b[1;32m     29\u001b[0m optimizer\u001b[39m.\u001b[39mstep()\n",
      "File \u001b[0;32m~/anaconda3/envs/safe/lib/python3.10/site-packages/torch/_tensor.py:488\u001b[0m, in \u001b[0;36mTensor.backward\u001b[0;34m(self, gradient, retain_graph, create_graph, inputs)\u001b[0m\n\u001b[1;32m    478\u001b[0m \u001b[39mif\u001b[39;00m has_torch_function_unary(\u001b[39mself\u001b[39m):\n\u001b[1;32m    479\u001b[0m     \u001b[39mreturn\u001b[39;00m handle_torch_function(\n\u001b[1;32m    480\u001b[0m         Tensor\u001b[39m.\u001b[39mbackward,\n\u001b[1;32m    481\u001b[0m         (\u001b[39mself\u001b[39m,),\n\u001b[0;32m   (...)\u001b[0m\n\u001b[1;32m    486\u001b[0m         inputs\u001b[39m=\u001b[39minputs,\n\u001b[1;32m    487\u001b[0m     )\n\u001b[0;32m--> 488\u001b[0m torch\u001b[39m.\u001b[39;49mautograd\u001b[39m.\u001b[39;49mbackward(\n\u001b[1;32m    489\u001b[0m     \u001b[39mself\u001b[39;49m, gradient, retain_graph, create_graph, inputs\u001b[39m=\u001b[39;49minputs\n\u001b[1;32m    490\u001b[0m )\n",
      "File \u001b[0;32m~/anaconda3/envs/safe/lib/python3.10/site-packages/torch/autograd/__init__.py:197\u001b[0m, in \u001b[0;36mbackward\u001b[0;34m(tensors, grad_tensors, retain_graph, create_graph, grad_variables, inputs)\u001b[0m\n\u001b[1;32m    192\u001b[0m     retain_graph \u001b[39m=\u001b[39m create_graph\n\u001b[1;32m    194\u001b[0m \u001b[39m# The reason we repeat same the comment below is that\u001b[39;00m\n\u001b[1;32m    195\u001b[0m \u001b[39m# some Python versions print out the first line of a multi-line function\u001b[39;00m\n\u001b[1;32m    196\u001b[0m \u001b[39m# calls in the traceback and some print out the last line\u001b[39;00m\n\u001b[0;32m--> 197\u001b[0m Variable\u001b[39m.\u001b[39;49m_execution_engine\u001b[39m.\u001b[39;49mrun_backward(  \u001b[39m# Calls into the C++ engine to run the backward pass\u001b[39;49;00m\n\u001b[1;32m    198\u001b[0m     tensors, grad_tensors_, retain_graph, create_graph, inputs,\n\u001b[1;32m    199\u001b[0m     allow_unreachable\u001b[39m=\u001b[39;49m\u001b[39mTrue\u001b[39;49;00m, accumulate_grad\u001b[39m=\u001b[39;49m\u001b[39mTrue\u001b[39;49;00m)\n",
      "\u001b[0;31mRuntimeError\u001b[0m: Trying to backward through the graph a second time (or directly access saved tensors after they have already been freed). Saved intermediate values of the graph are freed when you call .backward() or autograd.grad(). Specify retain_graph=True if you need to backward through the graph a second time or if you need to access saved tensors after calling backward."
     ]
    }
   ],
   "source": [
    "torch.autograd.set_detect_anomaly(True)\n",
    "\n",
    "# train the neural network\n",
    "for i in range(1000):\n",
    "    # sample 10 state from the data\n",
    "    idx = np.random.choice(100, 10)\n",
    "    input = points[:, idx].copy()\n",
    "    # forward pass\n",
    "    # create empty tensor to store the output\n",
    "    output = torch.empty(10)\n",
    "    # loop through the input\n",
    "    for i in range(10):\n",
    "        # get the output of the neural network\n",
    "        output[i] = nn(input[:, i])\n",
    "    # compute loss\n",
    "    loss = torch.mean(output)\n",
    "\n",
    "    # zero gradients\n",
    "    optimizer.zero_grad()\n",
    "    # backward pass\n",
    "    # loss.backward()\n",
    "    loss.backward(retain_graph=True)\n",
    "\n",
    "    # print the gradient\n",
    "    # print('gradient: ', nn.layers.weight.grad)\n",
    "    # print('weight: ', nn.linear.weight)\n",
    "\n",
    "    # update parameters\n",
    "    optimizer.step()\n",
    "    # print loss every 10 iterations\n",
    "    if i % 10 == 0:\n",
    "        print('loss: ', loss.item())"
   ]
  },
  {
   "cell_type": "code",
   "execution_count": null,
   "metadata": {},
   "outputs": [],
   "source": []
  }
 ],
 "metadata": {
  "kernelspec": {
   "display_name": "safe",
   "language": "python",
   "name": "python3"
  },
  "language_info": {
   "codemirror_mode": {
    "name": "ipython",
    "version": 3
   },
   "file_extension": ".py",
   "mimetype": "text/x-python",
   "name": "python",
   "nbconvert_exporter": "python",
   "pygments_lexer": "ipython3",
   "version": "3.10.13"
  },
  "orig_nbformat": 4
 },
 "nbformat": 4,
 "nbformat_minor": 2
}
