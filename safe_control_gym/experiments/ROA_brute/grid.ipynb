{
 "cells": [
  {
   "cell_type": "code",
   "execution_count": 1,
   "metadata": {},
   "outputs": [
    {
     "name": "stderr",
     "output_type": "stream",
     "text": [
      "/home/tumeilsy-mo-10/anaconda3/envs/safe/lib/python3.10/site-packages/tqdm/auto.py:21: TqdmWarning: IProgress not found. Please update jupyter and ipywidgets. See https://ipywidgets.readthedocs.io/en/stable/user_install.html\n",
      "  from .autonotebook import tqdm as notebook_tqdm\n"
     ]
    }
   ],
   "source": [
    "import numpy as np\n",
    "from utilities import gridding"
   ]
  },
  {
   "cell_type": "code",
   "execution_count": 2,
   "metadata": {},
   "outputs": [
    {
     "name": "stdout",
     "output_type": "stream",
     "text": [
      "Grid size: 24\n",
      "Discretization constant (tau): 0.0\n"
     ]
    }
   ],
   "source": [
    "dim_state = 4\n",
    "state_constraints = np.array([1, 2, 3, 5])\n",
    "\n",
    "# state_constraints = np.vstack((-1 * state_constraints, \\\n",
    "#                                     state_constraints)).T\n",
    "state_constraints = np.vstack((-1 * state_constraints, \\\n",
    "                                    np.array([1, 2, 3, 5]))).T\n",
    "\n",
    "prec = [2, 2 , 2, 3]\n",
    "grids = gridding(dim_state, state_constraints, prec)"
   ]
  },
  {
   "cell_type": "code",
   "execution_count": 3,
   "metadata": {},
   "outputs": [
    {
     "data": {
      "text/plain": [
       "array([[0, 0],\n",
       "       [0, 0],\n",
       "       [0, 0],\n",
       "       [0, 0]])"
      ]
     },
     "execution_count": 3,
     "metadata": {},
     "output_type": "execute_result"
    }
   ],
   "source": [
    "np.zeros_like(state_constraints)"
   ]
  },
  {
   "cell_type": "code",
   "execution_count": 4,
   "metadata": {},
   "outputs": [
    {
     "data": {
      "text/plain": [
       "array([[-1., -2., -3., -5.],\n",
       "       [-1., -2., -3.,  0.],\n",
       "       [-1., -2., -3.,  5.],\n",
       "       [-1., -2.,  3., -5.],\n",
       "       [-1., -2.,  3.,  0.],\n",
       "       [-1., -2.,  3.,  5.],\n",
       "       [ 1., -2., -3., -5.],\n",
       "       [ 1., -2., -3.,  0.],\n",
       "       [ 1., -2., -3.,  5.],\n",
       "       [ 1., -2.,  3., -5.],\n",
       "       [ 1., -2.,  3.,  0.],\n",
       "       [ 1., -2.,  3.,  5.],\n",
       "       [-1.,  2., -3., -5.],\n",
       "       [-1.,  2., -3.,  0.],\n",
       "       [-1.,  2., -3.,  5.],\n",
       "       [-1.,  2.,  3., -5.],\n",
       "       [-1.,  2.,  3.,  0.],\n",
       "       [-1.,  2.,  3.,  5.],\n",
       "       [ 1.,  2., -3., -5.],\n",
       "       [ 1.,  2., -3.,  0.],\n",
       "       [ 1.,  2., -3.,  5.],\n",
       "       [ 1.,  2.,  3., -5.],\n",
       "       [ 1.,  2.,  3.,  0.],\n",
       "       [ 1.,  2.,  3.,  5.]], dtype=float32)"
      ]
     },
     "execution_count": 4,
     "metadata": {},
     "output_type": "execute_result"
    }
   ],
   "source": [
    "grids.all_points"
   ]
  },
  {
   "cell_type": "code",
   "execution_count": 5,
   "metadata": {},
   "outputs": [
    {
     "data": {
      "text/plain": [
       "[array([-1.,  1.], dtype=float32),\n",
       " array([-2.,  2.], dtype=float32),\n",
       " array([-3.,  3.], dtype=float32),\n",
       " array([-5.,  0.,  5.], dtype=float32)]"
      ]
     },
     "execution_count": 5,
     "metadata": {},
     "output_type": "execute_result"
    }
   ],
   "source": [
    "grids.discrete_points"
   ]
  },
  {
   "cell_type": "code",
   "execution_count": 6,
   "metadata": {},
   "outputs": [],
   "source": [
    "\n",
    "#  [[ 1.         -1.         -0.30000001 -0.2       ]\n",
    "#  [ 1.         -1.         -0.30000001  0.2       ]\n",
    "#  [ 1.          1.         -0.30000001 -0.2       ]\n",
    "#  [ 1.          1.         -0.30000001  0.2       ]\n",
    "#  [ 1.         -1.         -0.1        -0.2       ]\n",
    "#  [ 1.         -1.         -0.1         0.2       ]\n",
    "#  [ 1.          1.         -0.1        -0.2       ]\n",
    "#  [ 1.          1.         -0.1         0.2       ]]\n",
    "\n",
    "res = np.array(([ 1.        , -1.        , -0.30000001, -0.2       ],\n",
    "                [ 1.        , -1.        , -0.30000001,  0.2       ],\n",
    "       [ 1.        ,  1.        , -0.30000001, -0.2       ],\n",
    "       [ 1.        ,  1.        , -0.30000001,  0.2       ],\n",
    "       [ 1.        , -1.        , -0.1       , -0.2       ],\n",
    "       [ 1.        , -1.        , -0.1       ,  0.2       ],\n",
    "       [ 1.        ,  1.        , -0.1       , -0.2       ],\n",
    "       [ 1.        ,  1.        , -0.1       ,  0.2       ]))"
   ]
  },
  {
   "cell_type": "code",
   "execution_count": 7,
   "metadata": {},
   "outputs": [
    {
     "data": {
      "text/plain": [
       "array([[ 1.        , -1.        , -0.30000001, -0.2       ],\n",
       "       [ 1.        , -1.        , -0.30000001,  0.2       ],\n",
       "       [ 1.        ,  1.        , -0.30000001, -0.2       ],\n",
       "       [ 1.        ,  1.        , -0.30000001,  0.2       ],\n",
       "       [ 1.        , -1.        , -0.1       , -0.2       ],\n",
       "       [ 1.        , -1.        , -0.1       ,  0.2       ],\n",
       "       [ 1.        ,  1.        , -0.1       , -0.2       ],\n",
       "       [ 1.        ,  1.        , -0.1       ,  0.2       ]])"
      ]
     },
     "execution_count": 7,
     "metadata": {},
     "output_type": "execute_result"
    }
   ],
   "source": [
    "res"
   ]
  },
  {
   "cell_type": "code",
   "execution_count": 8,
   "metadata": {},
   "outputs": [
    {
     "data": {
      "text/plain": [
       "array([[ 1.        ,  1.        , -0.1       ,  0.2       ],\n",
       "       [ 1.        ,  1.        , -0.1       , -0.2       ],\n",
       "       [ 1.        , -1.        , -0.1       ,  0.2       ],\n",
       "       [ 1.        , -1.        , -0.1       , -0.2       ],\n",
       "       [ 1.        ,  1.        , -0.30000001,  0.2       ],\n",
       "       [ 1.        ,  1.        , -0.30000001, -0.2       ],\n",
       "       [ 1.        , -1.        , -0.30000001,  0.2       ],\n",
       "       [ 1.        , -1.        , -0.30000001, -0.2       ]])"
      ]
     },
     "execution_count": 8,
     "metadata": {},
     "output_type": "execute_result"
    }
   ],
   "source": [
    "# reverse the order of the rows\n",
    "res_reverse = res[::-1]\n",
    "res_reverse"
   ]
  },
  {
   "cell_type": "code",
   "execution_count": 9,
   "metadata": {},
   "outputs": [
    {
     "data": {
      "text/plain": [
       "array([[ 1.        , -1.        ,  0.1       , -0.2       ],\n",
       "       [ 1.        , -1.        ,  0.1       ,  0.2       ],\n",
       "       [ 1.        ,  1.        ,  0.1       , -0.2       ],\n",
       "       [ 1.        ,  1.        ,  0.1       ,  0.2       ],\n",
       "       [ 1.        , -1.        ,  0.30000001, -0.2       ],\n",
       "       [ 1.        , -1.        ,  0.30000001,  0.2       ],\n",
       "       [ 1.        ,  1.        ,  0.30000001, -0.2       ],\n",
       "       [ 1.        ,  1.        ,  0.30000001,  0.2       ]])"
      ]
     },
     "execution_count": 9,
     "metadata": {},
     "output_type": "execute_result"
    }
   ],
   "source": [
    "# flip the sign from the second to the last columns\n",
    "res_reverse[:, 1:] = -res_reverse[:, 1:]\n",
    "res_reverse"
   ]
  },
  {
   "cell_type": "code",
   "execution_count": 10,
   "metadata": {},
   "outputs": [
    {
     "data": {
      "text/plain": [
       "array([[ 1.        ,  1.        ,  0.30000001,  0.2       ],\n",
       "       [ 1.        ,  1.        ,  0.30000001, -0.2       ],\n",
       "       [ 1.        , -1.        ,  0.30000001,  0.2       ],\n",
       "       [ 1.        , -1.        ,  0.30000001, -0.2       ],\n",
       "       [ 1.        ,  1.        ,  0.1       ,  0.2       ],\n",
       "       [ 1.        ,  1.        ,  0.1       , -0.2       ],\n",
       "       [ 1.        , -1.        ,  0.1       ,  0.2       ],\n",
       "       [ 1.        , -1.        ,  0.1       , -0.2       ],\n",
       "       [ 1.        , -1.        ,  0.1       , -0.2       ],\n",
       "       [ 1.        , -1.        ,  0.1       ,  0.2       ],\n",
       "       [ 1.        ,  1.        ,  0.1       , -0.2       ],\n",
       "       [ 1.        ,  1.        ,  0.1       ,  0.2       ],\n",
       "       [ 1.        , -1.        ,  0.30000001, -0.2       ],\n",
       "       [ 1.        , -1.        ,  0.30000001,  0.2       ],\n",
       "       [ 1.        ,  1.        ,  0.30000001, -0.2       ],\n",
       "       [ 1.        ,  1.        ,  0.30000001,  0.2       ]])"
      ]
     },
     "execution_count": 10,
     "metadata": {},
     "output_type": "execute_result"
    }
   ],
   "source": [
    "# concatenate the two arrays\n",
    "roa = np.concatenate((res, res_reverse), axis=0)\n",
    "roa"
   ]
  },
  {
   "cell_type": "code",
   "execution_count": 11,
   "metadata": {},
   "outputs": [
    {
     "data": {
      "text/plain": [
       "1"
      ]
     },
     "execution_count": 11,
     "metadata": {},
     "output_type": "execute_result"
    }
   ],
   "source": [
    "True + False"
   ]
  }
 ],
 "metadata": {
  "kernelspec": {
   "display_name": "safe",
   "language": "python",
   "name": "python3"
  },
  "language_info": {
   "codemirror_mode": {
    "name": "ipython",
    "version": 3
   },
   "file_extension": ".py",
   "mimetype": "text/x-python",
   "name": "python",
   "nbconvert_exporter": "python",
   "pygments_lexer": "ipython3",
   "version": "3.10.13"
  },
  "orig_nbformat": 4
 },
 "nbformat": 4,
 "nbformat_minor": 2
}
