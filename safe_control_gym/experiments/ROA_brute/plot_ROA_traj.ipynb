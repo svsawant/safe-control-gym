{
 "cells": [
  {
   "cell_type": "code",
   "execution_count": 1,
   "metadata": {},
   "outputs": [
    {
     "name": "stderr",
     "output_type": "stream",
     "text": [
      "/home/tumeilsy-mo-10/anaconda3/envs/safe/lib/python3.10/site-packages/tqdm/auto.py:21: TqdmWarning: IProgress not found. Please update jupyter and ipywidgets. See https://ipywidgets.readthedocs.io/en/stable/user_install.html\n",
      "  from .autonotebook import tqdm as notebook_tqdm\n"
     ]
    }
   ],
   "source": [
    "import numpy as np\n",
    "import matplotlib.pyplot as plt\n",
    "import json\n",
    "\n",
    "from safe_control_gym.lyapunov.lyapunov import GridWorld\n",
    "from safe_control_gym.lyapunov.utilities import *\n",
    "\n",
    "# only plot inline\n",
    "%matplotlib inline\n"
   ]
  },
  {
   "cell_type": "code",
   "execution_count": 2,
   "metadata": {},
   "outputs": [
    {
     "name": "stdout",
     "output_type": "stream",
     "text": [
      "Grid size: 327701\n",
      "Discretization constant (tau): 0.0\n",
      "[-0.5 -0.4 -0.3 -0.2 -0.1  0.   0.1  0.2  0.3  0.4  0.5]\n",
      "[-1.5 -1.4 -1.3 -1.2 -1.1 -1.  -0.9 -0.8 -0.7 -0.6 -0.5 -0.4 -0.3 -0.2\n",
      " -0.1  0.   0.1  0.2  0.3  0.4  0.5  0.6  0.7  0.8  0.9  1.   1.1  1.2\n",
      "  1.3  1.4  1.5]\n",
      "[-1.57       -1.4653333  -1.3606668  -1.256      -1.1513333  -1.0466667\n",
      " -0.94200003 -0.8373334  -0.7326667  -0.628      -0.5233334  -0.4186667\n",
      " -0.314      -0.20933335 -0.10466667  0.          0.10466667  0.20933335\n",
      "  0.314       0.4186667   0.5233334   0.628       0.7326667   0.8373334\n",
      "  0.94200003  1.0466667   1.1513333   1.256       1.3606668   1.4653333\n",
      "  1.57      ]\n",
      "-0.5\n"
     ]
    }
   ],
   "source": [
    "dim_grid = 3\n",
    "grid_constraints = np.array([0.5, 1.5, 1.57, 1.57])\n",
    "# grid_constraints = np.array([1, 0.3, 0.2])\n",
    "grid_constraints = np.vstack((-1 * grid_constraints, \\\n",
    "                                    grid_constraints)).T\n",
    "# grid_constraints_ub = np.array([grid_constraints[0], -0.1, grid_constraints[2]])\n",
    "# grid_constraints = np.vstack((-1 * grid_constraints, \\\n",
    "#                                     grid_constraints_ub)).T\n",
    "\n",
    "prec = [11, 31, 31, 31]\n",
    "# prec = [2, 2, 2]\n",
    "grids = gridding(dim_grid, grid_constraints, prec)\n",
    "# print discretized points\n",
    "print(grids.discrete_points[0])\n",
    "print(grids.discrete_points[1])\n",
    "print(grids.discrete_points[2])\n",
    "print(grids.discrete_points[1][10])"
   ]
  },
  {
   "cell_type": "code",
   "execution_count": 3,
   "metadata": {},
   "outputs": [],
   "source": [
    "m = 0.1\n",
    "l = 0.5\n"
   ]
  },
  {
   "cell_type": "code",
   "execution_count": 4,
   "metadata": {},
   "outputs": [],
   "source": [
    "# load M = 0.2 data\n",
    "M = 0.2\n",
    "result_file_name =  'results_linear_mpc_M_{:0.1f}_m_{:0.1f}_l_{:0.1f}_prec_{}_{}_{}_{}.json'\\\n",
    "                            .format(M, m, l, prec[0], prec[1], prec[2], prec[3])\n",
    "\n",
    "# load json data\n",
    "with open('ROA_data/'+result_file_name, 'r') as f:\n",
    "    result_M_200 = json.load(f)\n",
    "    \n",
    "ROA_M_small_data = np.zeros(len(grids.all_points))\n",
    "for k, result in enumerate(result_M_200):\n",
    "    ROA_M_small_data[result['idx']] = result['goal_reached']\n"
   ]
  },
  {
   "cell_type": "code",
   "execution_count": 5,
   "metadata": {},
   "outputs": [],
   "source": [
    "\n",
    "# print('type(result)', type(result))\n",
    "# print('len(result)', len(result))\n",
    "# print('result[0]', result[0])\n",
    "# print('type(result[0][obs]', type(result[0]['obs']))\n",
    "# print('len(result[0][obs]', len(result[0]['obs']))\n",
    "# print(result[0]['obs'][0])\n",
    "# ROA_M_small_obs = np.zeros([len(result), 4, len(grids.all_points)])\n",
    "# ROA_M_small_action = np.zeros([len(result), 1, len(grids.all_points)])"
   ]
  },
  {
   "cell_type": "code",
   "execution_count": 6,
   "metadata": {},
   "outputs": [
    {
     "data": {
      "text/plain": [
       "327701"
      ]
     },
     "execution_count": 6,
     "metadata": {},
     "output_type": "execute_result"
    }
   ],
   "source": [
    "len(grids.all_points)"
   ]
  },
  {
   "cell_type": "code",
   "execution_count": 6,
   "metadata": {},
   "outputs": [],
   "source": [
    "# load M = 0.2 data\n",
    "M = 1.0\n",
    "result_file_name =  'results_linear_mpc_M_{:0.1f}_m_{:0.1f}_l_{:0.1f}_prec_{}_{}_{}_{}.json'\\\n",
    "                            .format(M, m, l, prec[0], prec[1], prec[2], prec[3])\n",
    "\n",
    "# load json data\n",
    "with open('ROA_data/'+result_file_name, 'r') as f:\n",
    "    result_M_1000 = json.load(f)\n",
    "\n",
    "ROA_M_true_data = np.zeros(len(grids.all_points))\n",
    "for k, result in enumerate(result_M_1000):\n",
    "    ROA_M_true_data[result['idx']] = result['goal_reached'] \n"
   ]
  },
  {
   "cell_type": "code",
   "execution_count": 7,
   "metadata": {},
   "outputs": [
    {
     "ename": "",
     "evalue": "",
     "output_type": "error",
     "traceback": [
      "\u001b[1;31mCannot execute code, session has been disposed. Please try restarting the Kernel."
     ]
    },
    {
     "ename": "",
     "evalue": "",
     "output_type": "error",
     "traceback": [
      "\u001b[1;31mThe Kernel crashed while executing code in the the current cell or a previous cell. Please review the code in the cell(s) to identify a possible cause of the failure. Click <a href='https://aka.ms/vscodeJupyterKernelCrash'>here</a> for more info. View Jupyter <a href='command:jupyter.viewOutput'>log</a> for further details."
     ]
    }
   ],
   "source": [
    "# load M = 1.8 data\n",
    "M = 1.8\n",
    "result_file_name =  'results_linear_mpc_M_{:0.1f}_m_{:0.1f}_l_{:0.1f}_prec_{}_{}_{}_{}.json'\\\n",
    "                            .format(M, m, l, prec[0], prec[1], prec[2], prec[3])\n",
    "# load json data\n",
    "with open('ROA_data/'+result_file_name, 'r') as f:\n",
    "    result_M_1800 = json.load(f)\n",
    "\n",
    "ROA_M_large_data = np.zeros(len(grids.all_points))\n",
    "for k, result in enumerate(result_M_1800):\n",
    "    ROA_M_large_data[result['idx']] = result['goal_reached']"
   ]
  },
  {
   "cell_type": "code",
   "execution_count": null,
   "metadata": {},
   "outputs": [
    {
     "name": "stdout",
     "output_type": "stream",
     "text": [
      "ROA_M_true.shape (327701,)\n",
      "ROA_M_true.shape (11, 31, 31, 31)\n",
      "ROA_M_small.shape (11, 31, 31, 31)\n",
      "ROA_M_large.shape (11, 31, 31, 31)\n"
     ]
    }
   ],
   "source": [
    "ROA_M_small = ROA_M_small_data.reshape(grids.num_points)\n",
    "ROA_M_true = ROA_M_true_data.reshape(grids.num_points)\n",
    "ROA_M_large = ROA_M_large_data.reshape(grids.num_points)\n",
    "\n",
    "# ROA_M_large.shape\n",
    "print('ROA_M_true.shape', ROA_M_true.shape)\n",
    "print('ROA_M_small.shape', ROA_M_small.shape)\n",
    "print('ROA_M_large.shape', ROA_M_large.shape)"
   ]
  },
  {
   "cell_type": "code",
   "execution_count": null,
   "metadata": {},
   "outputs": [
    {
     "name": "stdout",
     "output_type": "stream",
     "text": [
      "x_slice_idx:  5\n",
      "theta_slice_idx:  11\n",
      "ROA_M_true_slice.shape:  (31, 31)\n",
      "x_slice:  0.0\n",
      "theta_slice:  -0.4186667\n"
     ]
    }
   ],
   "source": [
    "# take a random slice at the snd dimension\n",
    "# slice_idx = np.random.randint(1, grids.num_points[0])\n",
    "# ROA_M_large_slice = ROA_M_large[:, slice_idx, :]\n",
    "# ROA_M_true_slice = ROA_M_true[:, slice_idx, :]\n",
    "# ROA_M_small_slice = ROA_M_small[:, slice_idx, :]\n",
    "\n",
    "# slice_idx = np.random.randint(0, grids.num_points[1])\n",
    "x_slice_idx = 5\n",
    "theta_slice_idx = 11\n",
    "print('x_slice_idx: ', x_slice_idx)\n",
    "print('theta_slice_idx: ', theta_slice_idx)\n",
    "ROA_M_large_slice = ROA_M_large[x_slice_idx, :, theta_slice_idx, :]\n",
    "ROA_M_true_slice = ROA_M_true[x_slice_idx, :, theta_slice_idx, :]\n",
    "ROA_M_small_slice = ROA_M_small[x_slice_idx, :, theta_slice_idx, :]\n",
    "print('ROA_M_true_slice.shape: ', ROA_M_true_slice.shape)\n",
    "# print('ROA_M_small_slice: ', ROA_M_small_slice)\n",
    "# print('ROA_M_true_slice: ', ROA_M_true_slice)\n",
    "# print('ROA_M_large_slice: ', ROA_M_large_slice)\n",
    "\n",
    "# get the corresponding x and theta\n",
    "x_slice_at = grids.discrete_points[0][x_slice_idx]\n",
    "theta_slice_at = grids.discrete_points[2][theta_slice_idx]\n",
    "print('x_slice: ', x_slice_at)\n",
    "print('theta_slice: ', theta_slice_at)"
   ]
  },
  {
   "cell_type": "code",
   "execution_count": null,
   "metadata": {},
   "outputs": [
    {
     "name": "stdout",
     "output_type": "stream",
     "text": [
      "x_slice_idx:  5\n",
      "x_slice:  0.0\n",
      "ROA_M_large_3D_slice.shape:  (31, 31, 31)\n",
      "ROA_M_large_3D_slice_idx.shape:  (2997, 3)\n"
     ]
    }
   ],
   "source": [
    "# take a random slice at the snd dimension\n",
    "# slice_idx = np.random.randint(1, grids.num_points[0])\n",
    "# ROA_M_large_slice = ROA_M_large[:, slice_idx, :]\n",
    "# ROA_M_true_slice = ROA_M_true[:, slice_idx, :]\n",
    "# ROA_M_small_slice = ROA_M_small[:, slice_idx, :]\n",
    "\n",
    "# slice_idx = np.random.randint(0, grids.num_points[1])\n",
    "x_slice_idx = 5\n",
    "# theta_slice_idx = 11\n",
    "print('x_slice_idx: ', x_slice_idx)\n",
    "# get the corresponding x and theta\n",
    "x_slice_at = grids.discrete_points[0][x_slice_idx]\n",
    "# theta_slice_at = grids.discrete_points[2][theta_slice_idx]\n",
    "print('x_slice: ', x_slice_at)\n",
    "# print('theta_slice: ', theta_slice_at)\n",
    "\n",
    "# print('theta_slice_idx: ', theta_slice_idx)\n",
    "ROA_M_large_3D_slice = ROA_M_large[x_slice_idx, :, :, :]\n",
    "ROA_M_true_3D_slice = ROA_M_true[x_slice_idx, :, :, :]\n",
    "ROA_M_small_3D_slice = ROA_M_small[x_slice_idx, :, :, :]\n",
    "print('ROA_M_large_3D_slice.shape: ', ROA_M_large_3D_slice.shape)\n",
    "# print('ROA_M_small_3D_slice: ', ROA_M_small_3D_slice)\n",
    "\n",
    "# get the corresponding points in the slice whose value is 1\n",
    "ROA_M_large_3D_slice_idx = np.argwhere(ROA_M_large_3D_slice)\n",
    "ROA_M_true_3D_slice_idx = np.argwhere(ROA_M_true_3D_slice)\n",
    "ROA_M_small_3D_slice_idx = np.argwhere(ROA_M_small_3D_slice)\n",
    "\n",
    "print('ROA_M_large_3D_slice_idx.shape: ', ROA_M_large_3D_slice_idx.shape)\n",
    "# add x_slice_idx to the first dimension\n",
    "ROA_M_large_3D_slice_idx = np.hstack((x_slice_idx * np.ones((ROA_M_large_3D_slice_idx.shape[0], 1)), ROA_M_large_3D_slice_idx))\n",
    "ROA_M_true_3D_slice_idx = np.hstack((x_slice_idx * np.ones((ROA_M_true_3D_slice_idx.shape[0], 1)), ROA_M_true_3D_slice_idx))\n",
    "ROA_M_small_3D_slice_idx = np.hstack((x_slice_idx * np.ones((ROA_M_small_3D_slice_idx.shape[0], 1)), ROA_M_small_3D_slice_idx))\n",
    "\n",
    "# make the index to be integer\n",
    "ROA_M_large_3D_slice_idx = ROA_M_large_3D_slice_idx.astype(int)\n",
    "ROA_M_true_3D_slice_idx = ROA_M_true_3D_slice_idx.astype(int)\n",
    "ROA_M_small_3D_slice_idx = ROA_M_small_3D_slice_idx.astype(int)\n",
    "\n",
    "# get the corresponding state in the grid\n",
    "def get_state_from_axis_idx(axis_idx, grids):\n",
    "    state = []\n",
    "    for i in range(len(axis_idx)):\n",
    "        state.append(grids.discrete_points[i][axis_idx[i]])\n",
    "    state = np.array(state)\n",
    "    return state\n",
    "\n",
    "ROA_M_large_3D_slice_state = np.zeros((ROA_M_large_3D_slice_idx.shape[0], 4))\n",
    "for i in range(ROA_M_large_3D_slice_idx.shape[0]):\n",
    "    ROA_M_large_3D_slice_state[i, :] = get_state_from_axis_idx(ROA_M_large_3D_slice_idx[i, :], grids)\n",
    "\n",
    "ROA_M_true_3D_slice_state = np.zeros((ROA_M_true_3D_slice_idx.shape[0], 4))\n",
    "for i in range(ROA_M_true_3D_slice_idx.shape[0]):\n",
    "    ROA_M_true_3D_slice_state[i, :] = get_state_from_axis_idx(ROA_M_true_3D_slice_idx[i, :], grids)\n",
    "\n",
    "ROA_M_small_3D_slice_state = np.zeros((ROA_M_small_3D_slice_idx.shape[0], 4))\n",
    "for i in range(ROA_M_small_3D_slice_idx.shape[0]):\n",
    "    ROA_M_small_3D_slice_state[i, :] = get_state_from_axis_idx(ROA_M_small_3D_slice_idx[i, :], grids)\n"
   ]
  },
  {
   "cell_type": "code",
   "execution_count": null,
   "metadata": {},
   "outputs": [],
   "source": [
    "ROA_M_small_idx = grids.state_to_index(ROA_M_small_3D_slice_state)\n",
    "ROA_M_small_idx\n",
    "\n",
    "# load M = 0.2 data\n",
    "M = 0.2\n",
    "result_file_name =  'results_linear_mpc_M_{:0.1f}_m_{:0.1f}_l_{:0.1f}_prec_{}_{}_{}_{}.json'\\\n",
    "                            .format(M, m, l, prec[0], prec[1], prec[2], prec[3])\n",
    "\n",
    "# load json data\n",
    "with open('ROA_data/'+result_file_name, 'r') as f:\n",
    "    result = json.load(f)"
   ]
  },
  {
   "cell_type": "code",
   "execution_count": null,
   "metadata": {},
   "outputs": [
    {
     "name": "stdout",
     "output_type": "stream",
     "text": [
      "i\n"
     ]
    }
   ],
   "source": [
    "\n"
   ]
  }
 ],
 "metadata": {
  "kernelspec": {
   "display_name": "safe",
   "language": "python",
   "name": "python3"
  },
  "language_info": {
   "codemirror_mode": {
    "name": "ipython",
    "version": 3
   },
   "file_extension": ".py",
   "mimetype": "text/x-python",
   "name": "python",
   "nbconvert_exporter": "python",
   "pygments_lexer": "ipython3",
   "version": "3.10.13"
  },
  "orig_nbformat": 4
 },
 "nbformat": 4,
 "nbformat_minor": 2
}
