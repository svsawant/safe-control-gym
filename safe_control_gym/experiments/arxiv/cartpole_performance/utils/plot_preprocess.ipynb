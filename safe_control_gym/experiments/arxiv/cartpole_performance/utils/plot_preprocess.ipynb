{
 "cells": [
  {
   "cell_type": "code",
   "execution_count": 543,
   "metadata": {},
   "outputs": [],
   "source": [
    "import numpy as np\n",
    "import os\n",
    "import sys\n",
    "import matplotlib.pyplot as plt\n",
    "from safe_control_gym.lyapunov.lyapunov import *\n",
    "from safe_control_gym.lyapunov.utilities import *\n",
    "from safe_control_gym.experiments.arxiv.utils.gpmpc_plotting_utils import *"
   ]
  },
  {
   "cell_type": "code",
   "execution_count": 544,
   "metadata": {},
   "outputs": [
    {
     "name": "stdout",
     "output_type": "stream",
     "text": [
      "Grid size: 327701\n",
      "Discretization constant (tau): 0.0\n"
     ]
    }
   ],
   "source": [
    "dim_grid = 4\n",
    "grid_constraints = np.array([0.5, 1.5, 1.57, 1.57])\n",
    "grid_constraints = np.vstack((-1 * grid_constraints, \\\n",
    "                                    grid_constraints)).T\n",
    "prec = [11, 31, 31, 31]\n",
    "grids = gridding(dim_grid, grid_constraints, prec)"
   ]
  },
  {
   "cell_type": "code",
   "execution_count": 545,
   "metadata": {},
   "outputs": [
    {
     "name": "stdout",
     "output_type": "stream",
     "text": [
      "notebook_dir /home/mingxuan/Repositories/scg_mx/safe_control_gym/experiments/arxiv/cartpole_performance/utils\n",
      "data_folder_path /home/mingxuan/Repositories/scg_mx/safe_control_gym/experiments/arxiv/cartpole_performance/utils/../data/cartpole_data_eff/\n"
     ]
    }
   ],
   "source": [
    "notebook_dir = os.path.dirname(os.path.abspath('__file__'))\n",
    "print('notebook_dir', notebook_dir)\n",
    "data_folder = '../data/cartpole_data_eff/'\n",
    "data_folder_path = os.path.join(notebook_dir, data_folder)\n",
    "print('data_folder_path', data_folder_path)"
   ]
  },
  {
   "cell_type": "code",
   "execution_count": 546,
   "metadata": {},
   "outputs": [
    {
     "name": "stdout",
     "output_type": "stream",
     "text": [
      "data_folder_path_M /home/mingxuan/Repositories/scg_mx/safe_control_gym/experiments/arxiv/cartpole_performance/utils/../data/cartpole_data_eff/M_1800\n",
      "largest epoch 19\n",
      "files ['data_epoch_6_init_19416_M_1.8_m_0.1_l_0.5_prec_11_31_31_31.npz', 'data_epoch_6_init_153306_M_1.8_m_0.1_l_0.5_prec_11_31_31_31.npz', 'data_epoch_6_init_59398_M_1.8_m_0.1_l_0.5_prec_11_31_31_31.npz', 'data_epoch_6_init_241725_M_1.8_m_0.1_l_0.5_prec_11_31_31_31.npz', 'data_epoch_6_init_215992_M_1.8_m_0.1_l_0.5_prec_11_31_31_31.npz', 'data_epoch_6_init_112875_M_1.8_m_0.1_l_0.5_prec_11_31_31_31.npz', 'data_epoch_6_init_275583_M_1.8_m_0.1_l_0.5_prec_11_31_31_31.npz', 'data_epoch_6_init_46953_M_1.8_m_0.1_l_0.5_prec_11_31_31_31.npz', 'data_epoch_6_init_12279_M_1.8_m_0.1_l_0.5_prec_11_31_31_31.npz', 'data_epoch_6_init_191092_M_1.8_m_0.1_l_0.5_prec_11_31_31_31.npz', 'data_epoch_6_init_297496_M_1.8_m_0.1_l_0.5_prec_11_31_31_31.npz', 'data_epoch_6_init_135363_M_1.8_m_0.1_l_0.5_prec_11_31_31_31.npz', 'data_epoch_6_init_129774_M_1.8_m_0.1_l_0.5_prec_11_31_31_31.npz', 'data_epoch_6_init_313804_M_1.8_m_0.1_l_0.5_prec_11_31_31_31.npz', 'data_epoch_6_init_176455_M_1.8_m_0.1_l_0.5_prec_11_31_31_31.npz', 'data_epoch_6_init_260409_M_1.8_m_0.1_l_0.5_prec_11_31_31_31.npz', 'data_epoch_6_init_126099_M_1.8_m_0.1_l_0.5_prec_11_31_31_31.npz', 'data_epoch_6_init_38729_M_1.8_m_0.1_l_0.5_prec_11_31_31_31.npz', 'data_epoch_6_init_304727_M_1.8_m_0.1_l_0.5_prec_11_31_31_31.npz']\n",
      "[ 12279  19416  38729  46953  59398 112875 126099 129774 135363 153306\n",
      " 176455 191092 215992 241725 260409 275583 297496 304727 313804]\n",
      "valid init state num: 19\n",
      "common init state idx: [ 46083  46953  59398 126099 129774 153306 159008 165110 176455 241725\n",
      " 260409 304727]\n",
      "common init state num: 12\n"
     ]
    }
   ],
   "source": [
    "M = 1800\n",
    "\n",
    "M_large = 1800\n",
    "M_small = 200\n",
    "M_true = 1000\n",
    "\n",
    "# M = 'M_{}'.format(M)\n",
    "data_folder_path_M = os.path.join(data_folder_path, 'M_{}'.format(M))\n",
    "print('data_folder_path_M', data_folder_path_M)\n",
    "\n",
    "# find the largest epoch\n",
    "epoch = 0\n",
    "for file in os.listdir(data_folder_path_M):\n",
    "    if file.endswith('.npz'):\n",
    "        file_epoch = int(file.split('epoch_')[-1].split('_init')[0])\n",
    "        if file_epoch > epoch:\n",
    "            epoch = file_epoch\n",
    "print('largest epoch', epoch)\n",
    "epoch = 6\n",
    "\n",
    "data_name_list = os.listdir(data_folder_path_M)\n",
    "files = [filename for filename in data_name_list if filename.startswith('data_epoch_{}'.format(epoch))]\n",
    "print('files', files)\n",
    "\n",
    "init_state_idx = []\n",
    "for filename in files:\n",
    "    # split the filename to get the init state index\n",
    "    init_state_idx.append(int(filename.split('init_')[-1].split('_M')[0]))\n",
    "sorted_init_state_idx = np.sort(init_state_idx)\n",
    "print(sorted_init_state_idx)\n",
    "print('valid init state num:', len(sorted_init_state_idx))\n",
    "\n",
    "# save the valid init state index to a file\n",
    "\n",
    "np.savez(os.path.join(notebook_dir, 'init_state_idx_M_{}.npz'.format(M)), \\\n",
    "                                                init_state_idx=sorted_init_state_idx)\n",
    "\n",
    "# load the valid init state index\n",
    "init_state_idx_true = np.load(os.path.join(notebook_dir, 'init_state_idx_M_{}.npz'.format(M_true)))['init_state_idx']\n",
    "init_state_idx_small = np.load(os.path.join(notebook_dir, 'init_state_idx_M_{}.npz'.format(M_small)))['init_state_idx']\n",
    "init_state_idx_large = np.load(os.path.join(notebook_dir, 'init_state_idx_M_{}.npz'.format(M_large)))['init_state_idx']\n",
    "\n",
    "common_init_state_idx = np.intersect1d(init_state_idx_true, init_state_idx_small)\n",
    "print('common init state idx:', common_init_state_idx)\n",
    "print('common init state num:', len(common_init_state_idx))"
   ]
  },
  {
   "cell_type": "code",
   "execution_count": 547,
   "metadata": {},
   "outputs": [
    {
     "data": {
      "text/plain": [
       "[NpzFile '/home/mingxuan/Repositories/scg_mx/safe_control_gym/experiments/arxiv/cartpole_performance/utils/../data/cartpole_data_eff/M_1800/data_epoch_6_init_153306_M_1.8_m_0.1_l_0.5_prec_11_31_31_31.npz' with keys: train_runs, test_runs, num_epochs, num_train_episodes_per_epoch, num_test_episodes_per_epoch...,\n",
       " NpzFile '/home/mingxuan/Repositories/scg_mx/safe_control_gym/experiments/arxiv/cartpole_performance/utils/../data/cartpole_data_eff/M_1800/data_epoch_6_init_59398_M_1.8_m_0.1_l_0.5_prec_11_31_31_31.npz' with keys: train_runs, test_runs, num_epochs, num_train_episodes_per_epoch, num_test_episodes_per_epoch...,\n",
       " NpzFile '/home/mingxuan/Repositories/scg_mx/safe_control_gym/experiments/arxiv/cartpole_performance/utils/../data/cartpole_data_eff/M_1800/data_epoch_6_init_241725_M_1.8_m_0.1_l_0.5_prec_11_31_31_31.npz' with keys: train_runs, test_runs, num_epochs, num_train_episodes_per_epoch, num_test_episodes_per_epoch...,\n",
       " NpzFile '/home/mingxuan/Repositories/scg_mx/safe_control_gym/experiments/arxiv/cartpole_performance/utils/../data/cartpole_data_eff/M_1800/data_epoch_6_init_46953_M_1.8_m_0.1_l_0.5_prec_11_31_31_31.npz' with keys: train_runs, test_runs, num_epochs, num_train_episodes_per_epoch, num_test_episodes_per_epoch...,\n",
       " NpzFile '/home/mingxuan/Repositories/scg_mx/safe_control_gym/experiments/arxiv/cartpole_performance/utils/../data/cartpole_data_eff/M_1800/data_epoch_6_init_129774_M_1.8_m_0.1_l_0.5_prec_11_31_31_31.npz' with keys: train_runs, test_runs, num_epochs, num_train_episodes_per_epoch, num_test_episodes_per_epoch...,\n",
       " NpzFile '/home/mingxuan/Repositories/scg_mx/safe_control_gym/experiments/arxiv/cartpole_performance/utils/../data/cartpole_data_eff/M_1800/data_epoch_6_init_176455_M_1.8_m_0.1_l_0.5_prec_11_31_31_31.npz' with keys: train_runs, test_runs, num_epochs, num_train_episodes_per_epoch, num_test_episodes_per_epoch...,\n",
       " NpzFile '/home/mingxuan/Repositories/scg_mx/safe_control_gym/experiments/arxiv/cartpole_performance/utils/../data/cartpole_data_eff/M_1800/data_epoch_6_init_260409_M_1.8_m_0.1_l_0.5_prec_11_31_31_31.npz' with keys: train_runs, test_runs, num_epochs, num_train_episodes_per_epoch, num_test_episodes_per_epoch...,\n",
       " NpzFile '/home/mingxuan/Repositories/scg_mx/safe_control_gym/experiments/arxiv/cartpole_performance/utils/../data/cartpole_data_eff/M_1800/data_epoch_6_init_126099_M_1.8_m_0.1_l_0.5_prec_11_31_31_31.npz' with keys: train_runs, test_runs, num_epochs, num_train_episodes_per_epoch, num_test_episodes_per_epoch...,\n",
       " NpzFile '/home/mingxuan/Repositories/scg_mx/safe_control_gym/experiments/arxiv/cartpole_performance/utils/../data/cartpole_data_eff/M_1800/data_epoch_6_init_304727_M_1.8_m_0.1_l_0.5_prec_11_31_31_31.npz' with keys: train_runs, test_runs, num_epochs, num_train_episodes_per_epoch, num_test_episodes_per_epoch...]"
      ]
     },
     "execution_count": 547,
     "metadata": {},
     "output_type": "execute_result"
    }
   ],
   "source": [
    "# common_init_state_idx = sorted_init_state_idx\n",
    "# only load the file with the state index in the sorted_init_state_idx\n",
    "raw_data = []\n",
    "for filename in files:\n",
    "    init_idx = int(filename.split('init_')[-1].split('_M')[0])\n",
    "    if init_idx in common_init_state_idx:\n",
    "        raw_data.append(np.load(os.path.join(data_folder_path_M, filename), allow_pickle=True))\n",
    "raw_data"
   ]
  },
  {
   "cell_type": "code",
   "execution_count": 548,
   "metadata": {},
   "outputs": [],
   "source": [
    "test_runs = [raw_data[i]['test_runs'].item() for i in range(len(raw_data))]\n",
    "train_runs = [raw_data[i]['train_runs'].item() for i in range(len(raw_data))]"
   ]
  },
  {
   "cell_type": "code",
   "execution_count": 549,
   "metadata": {},
   "outputs": [
    {
     "name": "stdout",
     "output_type": "stream",
     "text": [
      "num_epochs: 7\n",
      "num_points_per_epoch: [0, 45, 82, 132, 182, 228, 273]\n"
     ]
    }
   ],
   "source": [
    "# test_runs\n",
    "num_points_per_epoch = []  # number of training points\n",
    "# Compute the number of training points (x-axis for most figures).\n",
    "num_epochs = len(train_runs[0])\n",
    "print('num_epochs:', num_epochs)\n",
    "num_points = 0\n",
    "num_points_per_epoch.append(num_points)\n",
    "for epoch in range(1, num_epochs):\n",
    "    num_train_episodes = len(train_runs[1][epoch])\n",
    "    for episode in range(num_train_episodes):\n",
    "        num_points += train_runs[1][epoch][episode]['obs'].shape[0]\n",
    "    num_points_per_epoch.append(num_points) \n",
    "print('num_points_per_epoch:', num_points_per_epoch)"
   ]
  },
  {
   "cell_type": "code",
   "execution_count": 550,
   "metadata": {},
   "outputs": [
    {
     "name": "stdout",
     "output_type": "stream",
     "text": [
      "mean_cost: [71342.30550448  2592.91660674  2027.53077794  2537.66277741\n",
      " 12087.29713901 12904.41633156  2418.01282738]\n",
      "std_cost: [81043.4205106   1412.58331884  1143.49440461  2291.00205239\n",
      " 24071.67648298 22241.82699546  1931.28104125]\n"
     ]
    },
    {
     "data": {
      "text/plain": [
       "(0.0, 249637.83062779717)"
      ]
     },
     "execution_count": 550,
     "metadata": {},
     "output_type": "execute_result"
    },
    {
     "data": {
      "image/png": "[encoded data removed]",
      "text/plain": [
       "<Figure size 640x480 with 1 Axes>"
      ]
     },
     "metadata": {},
     "output_type": "display_data"
    }
   ],
   "source": [
    "s = 2 # times of std\n",
    "\n",
    "common_costs = [get_cost(test_runs[i]) for i in range(len(test_runs))]\n",
    "# num_points_per_epoch\n",
    "# common_costs\n",
    "\n",
    "mean_cost = np.mean(common_costs, axis=0)\n",
    "print('mean_cost:', mean_cost)\n",
    "std_cost = np.std(common_costs, axis=0)\n",
    "print('std_cost:', std_cost)\n",
    "x = num_points_per_epoch\n",
    "plt.plot(x, mean_cost, 'k-')\n",
    "plt.fill_between(x, mean_cost - s * std_cost, mean_cost + s * std_cost, alpha=0.5)\n",
    "# limit the y-axis above 0\n",
    "plt.ylim(0, None)"
   ]
  },
  {
   "cell_type": "code",
   "execution_count": 551,
   "metadata": {},
   "outputs": [],
   "source": [
    "# save the mean_cost and std_cost to a file under the notebook_dir\n",
    "np.savez('mean_std_cost_M_{}.npz'.format(M), mean_cost=mean_cost, std_cost=std_cost, num_points_per_epoch=num_points_per_epoch)"
   ]
  },
  {
   "cell_type": "code",
   "execution_count": null,
   "metadata": {},
   "outputs": [],
   "source": []
  },
  {
   "cell_type": "code",
   "execution_count": null,
   "metadata": {},
   "outputs": [],
   "source": []
  }
 ],
 "metadata": {
  "kernelspec": {
   "display_name": "safe",
   "language": "python",
   "name": "python3"
  },
  "language_info": {
   "codemirror_mode": {
    "name": "ipython",
    "version": 3
   },
   "file_extension": ".py",
   "mimetype": "text/x-python",
   "name": "python",
   "nbconvert_exporter": "python",
   "pygments_lexer": "ipython3",
   "version": "3.10.13"
  }
 },
 "nbformat": 4,
 "nbformat_minor": 2
}
